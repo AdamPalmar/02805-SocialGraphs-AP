{
 "cells": [
  {
   "cell_type": "markdown",
   "metadata": {},
   "source": [
    "* Chapter 1 and 2"
   ]
  },
  {
   "cell_type": "markdown",
   "metadata": {},
   "source": [
    "\n",
    "    Exercises\n",
    "    Chapter 1 (Don't forget that you should be answering these in an IPython notebook.)\n",
    "\n",
    "        List three different real networks and state the nodes and links for each of them.\n",
    "        Tell us of the network you are personally most interested in. Address the following questions:\n",
    "            What are its nodes and links?\n",
    "            How large is it?\n",
    "            Can be mapped out?\n",
    "            Why do you care about it?\n",
    "        \n",
    "        \n"
   ]
  },
  {
   "cell_type": "markdown",
   "metadata": {},
   "source": [
    "\n",
    "#  (Answers real networks)\n",
    " 1.\n",
    " Managemet communication networks.\n",
    " \n",
    " Modelling communication flow between departments and individuals i companies. \n",
    " This is not a physical network, but it can be used to model flow of infomation and how buisness decitions are made.\n",
    " \n",
    " Nodes would in this case be people, or departments and the communication between people would represent links.7\n",
    " In terms of the size of the network it depends on the size of the company.\n",
    " \n",
    " Its important because with increasing size in amount of people involved in collaborating. Having effectiv communication\n",
    " about direction is increasingly difficult. This is because of the natural amount of people that we can communicate with on a daily basis limited.\n",
    " \n",
    " \n",
    " 2.\n",
    " \n",
    " Transportation network/ road inferstructure can be model as a real networks.\n",
    " The nodes can be represented as the crossings where the roads connect. \n",
    " The links would be the roads connecting the traffic lights. \n",
    " \n",
    "\n",
    " The graph could be scaled to the size of every connected road system on earth.\n",
    " It can be mapped out most effectly might be pictures taken from satellites in space.\n",
    " \n",
    " This kind of network is important if you want to move from A to B effectivly.\n",
    "  Representation of this network is used in GPS sytems for navigation.\n",
    "  \n",
    " 3.\n",
    "From neuroscience we know that the brain is also a network consisting of interconnected neurons. In this case neurons would be notes and the connection between them links.\n",
    "\n",
    "There is still uncertainty around how large they are. But the amount of neurons are in the billions. \n",
    "Some research sugest that there are on average 86 billion neurons.\n",
    "\n",
    "It is unknown what would come from unlocking how the brain works. Next step in humanity maybe or AI apocalypse.\n",
    "\n"
   ]
  },
  {
   "cell_type": "markdown",
   "metadata": {},
   "source": [
    "\n",
    "* In your view what would be the area where network science could have the biggest impact in the next decade? Explain your answer - and base it on the text in the book.\n",
    "\n",
    "\n",
    "\n",
    "    Impact on the next decade\n",
    "    \n",
    "I think network science could have a big impact in the world of personlized education making personalized curriculum that can adapt to the interest and learning rate of he individual person. \n",
    "\n",
    "In pace with the decentralization of high quality education avaliable online. It might become increasingly difficult to make onesize fits all educations and in order to keep up with the accumulation of information. Knowing what is relevant to the individual is important because time is a limited resource. \n",
    "\n",
    "    \n",
    "            \n"
   ]
  },
  {
   "cell_type": "markdown",
   "metadata": {},
   "source": [
    "        \n",
    "    Chapter 2\n",
    "\n",
    "        Section 2.5 states that real networks are sparse. Can you think of a real network where each node has many connections? Is that network still sparse? If yes, can you explain why?\n",
    "\n",
    "    There are more questions on Chapter 2 below.\n"
   ]
  },
  {
   "cell_type": "markdown",
   "metadata": {},
   "source": [
    "For an example of a real network with a high number of connections this could be the effect of gravity between objects in the universe.\n",
    "\n",
    "I'm not sure this holds true as i dont study phyiscis. But from my understanding every node/object has an potential effect on other objects though the effect might be small.\n",
    "\n",
    "If the assumption holds true this would be a very dense network.\n"
   ]
  },
  {
   "cell_type": "code",
   "execution_count": 1,
   "metadata": {
    "collapsed": false
   },
   "outputs": [],
   "source": [
    "import networkx as nx\n"
   ]
  },
  {
   "cell_type": "code",
   "execution_count": 2,
   "metadata": {
    "collapsed": true
   },
   "outputs": [],
   "source": [
    "# Making a graph object\n",
    "graph = nx.Graph()"
   ]
  },
  {
   "cell_type": "code",
   "execution_count": 3,
   "metadata": {
    "collapsed": true
   },
   "outputs": [],
   "source": [
    "# adding a node\n",
    "graph.add_node(1)"
   ]
  },
  {
   "cell_type": "code",
   "execution_count": 4,
   "metadata": {
    "collapsed": true
   },
   "outputs": [],
   "source": [
    "# adding a list \n",
    "graph.add_nodes_from([2,3])"
   ]
  },
  {
   "cell_type": "code",
   "execution_count": 5,
   "metadata": {
    "collapsed": true
   },
   "outputs": [],
   "source": [
    "# adding a nbunch\n",
    "H = nx.path_graph(10)\n",
    "graph.add_nodes_from(H)"
   ]
  },
  {
   "cell_type": "code",
   "execution_count": 6,
   "metadata": {
    "collapsed": false
   },
   "outputs": [],
   "source": [
    "graph.add_node(H)"
   ]
  },
  {
   "cell_type": "code",
   "execution_count": 7,
   "metadata": {
    "collapsed": true
   },
   "outputs": [],
   "source": [
    "# Adding edges one at a time\n",
    "graph.add_edge(1,2)\n",
    "# e tuple\n",
    "e = (2,3)\n",
    "# unfolding tuple into graph\n",
    "graph.add_edge(*e)"
   ]
  },
  {
   "cell_type": "code",
   "execution_count": 8,
   "metadata": {
    "collapsed": false
   },
   "outputs": [],
   "source": [
    "# adding edges from list\n",
    "graph.add_edges_from([(1,2),(1,3)])"
   ]
  },
  {
   "cell_type": "code",
   "execution_count": 9,
   "metadata": {
    "collapsed": true
   },
   "outputs": [],
   "source": [
    "# adding edges with a ebunch\n",
    "# What is a ebunch though\n",
    "graph.add_edges_from(H.edges())"
   ]
  },
  {
   "cell_type": "code",
   "execution_count": 10,
   "metadata": {
    "collapsed": true
   },
   "outputs": [],
   "source": [
    "# removing a node\n",
    "graph.remove_node(H)\n"
   ]
  },
  {
   "cell_type": "code",
   "execution_count": 11,
   "metadata": {
    "collapsed": true
   },
   "outputs": [],
   "source": [
    "# clearing the graph\n",
    "graph.clear()"
   ]
  },
  {
   "cell_type": "code",
   "execution_count": 12,
   "metadata": {
    "collapsed": true
   },
   "outputs": [],
   "source": [
    "graph.add_edges_from([(1,2),(1,3)])\n",
    "graph.add_node(1)\n",
    "graph.add_edge(1,2)\n",
    "graph.add_node(\"spam\")       # adds node \"spam\"\n",
    "graph.add_nodes_from(\"spam\") # adds 4 nodes: 's', 'p', 'a', 'm'"
   ]
  },
  {
   "cell_type": "code",
   "execution_count": 13,
   "metadata": {
    "collapsed": false
   },
   "outputs": [
    {
     "data": {
      "text/plain": [
       "8"
      ]
     },
     "execution_count": 13,
     "metadata": {},
     "output_type": "execute_result"
    }
   ],
   "source": [
    "graph.number_of_nodes()"
   ]
  },
  {
   "cell_type": "code",
   "execution_count": 14,
   "metadata": {
    "collapsed": false
   },
   "outputs": [
    {
     "data": {
      "text/plain": [
       "2"
      ]
     },
     "execution_count": 14,
     "metadata": {},
     "output_type": "execute_result"
    }
   ],
   "source": [
    "graph.number_of_edges()"
   ]
  },
  {
   "cell_type": "code",
   "execution_count": 15,
   "metadata": {
    "collapsed": false
   },
   "outputs": [
    {
     "data": {
      "text/plain": [
       "['a', 1, 2, 3, 'spam', 'm', 'p', 's']"
      ]
     },
     "execution_count": 15,
     "metadata": {},
     "output_type": "execute_result"
    }
   ],
   "source": [
    "graph.nodes()"
   ]
  },
  {
   "cell_type": "code",
   "execution_count": 16,
   "metadata": {
    "collapsed": false
   },
   "outputs": [
    {
     "data": {
      "text/plain": [
       "[(1, 2), (1, 3)]"
      ]
     },
     "execution_count": 16,
     "metadata": {},
     "output_type": "execute_result"
    }
   ],
   "source": [
    "graph.edges()"
   ]
  },
  {
   "cell_type": "code",
   "execution_count": 17,
   "metadata": {
    "collapsed": false
   },
   "outputs": [
    {
     "data": {
      "text/plain": [
       "[2, 3]"
      ]
     },
     "execution_count": 17,
     "metadata": {},
     "output_type": "execute_result"
    }
   ],
   "source": [
    "graph.neighbors(1)"
   ]
  },
  {
   "cell_type": "code",
   "execution_count": 18,
   "metadata": {
    "collapsed": false
   },
   "outputs": [],
   "source": [
    "graph.remove_nodes_from(\"spam\")\n",
    "graph.nodes()\n",
    "graph.remove_edge(1,3)"
   ]
  },
  {
   "cell_type": "code",
   "execution_count": 19,
   "metadata": {
    "collapsed": false
   },
   "outputs": [
    {
     "data": {
      "text/plain": [
       "[(1, 2), (2, 1)]"
      ]
     },
     "execution_count": 19,
     "metadata": {},
     "output_type": "execute_result"
    }
   ],
   "source": [
    "H = nx.DiGraph(graph)\n",
    "H.edges()"
   ]
  },
  {
   "cell_type": "code",
   "execution_count": 20,
   "metadata": {
    "collapsed": true
   },
   "outputs": [],
   "source": [
    "edgelist = [(0,1),(1,2),(2,3)]\n",
    "H = nx.Graph(edgelist)"
   ]
  },
  {
   "cell_type": "code",
   "execution_count": 21,
   "metadata": {
    "collapsed": false
   },
   "outputs": [
    {
     "data": {
      "text/plain": [
       "{2: {}}"
      ]
     },
     "execution_count": 21,
     "metadata": {},
     "output_type": "execute_result"
    }
   ],
   "source": [
    "graph[1]"
   ]
  },
  {
   "cell_type": "code",
   "execution_count": 22,
   "metadata": {
    "collapsed": false
   },
   "outputs": [
    {
     "data": {
      "text/plain": [
       "{}"
      ]
     },
     "execution_count": 22,
     "metadata": {},
     "output_type": "execute_result"
    }
   ],
   "source": [
    "graph[1][2]"
   ]
  },
  {
   "cell_type": "code",
   "execution_count": 23,
   "metadata": {
    "collapsed": true
   },
   "outputs": [],
   "source": [
    "graph.add_edge(1,3)\n",
    "graph[1][3]['color'] = 'blue'"
   ]
  },
  {
   "cell_type": "code",
   "execution_count": 24,
   "metadata": {
    "collapsed": false
   },
   "outputs": [
    {
     "name": "stdout",
     "output_type": "stream",
     "text": [
      "(1, 2, 0.125)\n",
      "(2, 1, 0.125)\n",
      "(3, 4, 0.375)\n",
      "(4, 3, 0.375)\n"
     ]
    }
   ],
   "source": [
    "FG = nx.Graph()\n",
    "FG.add_weighted_edges_from([(1,2,0.125),(1,3,0.75),(2,4,1.2),(3,4,0.375)])\n",
    "for n,numbers in FG.adjacency_iter():\n",
    "    for number,eattribute in numbers.items():\n",
    "        data = eattribute[\"weight\"]\n",
    "        if data < 0.5:\n",
    "            print('(%d, %d, %.3f)' % (n,number,data))"
   ]
  },
  {
   "cell_type": "code",
   "execution_count": 25,
   "metadata": {
    "collapsed": false
   },
   "outputs": [
    {
     "name": "stdout",
     "output_type": "stream",
     "text": [
      "(1, 2 ,0.125)\n",
      "(3, 4 ,0.375)\n"
     ]
    }
   ],
   "source": [
    "# Obs there was an error in the tutorial code\n",
    "for (u,v,d) in FG.edges(data=\"weight\"):\n",
    "    if d < 0.5:\n",
    "        print('(%d, %d ,%.3f)' %(u,v,d))"
   ]
  },
  {
   "cell_type": "markdown",
   "metadata": {},
   "source": [
    "# Graph attributes"
   ]
  },
  {
   "cell_type": "code",
   "execution_count": 26,
   "metadata": {
    "collapsed": false
   },
   "outputs": [
    {
     "data": {
      "text/plain": [
       "{'day': 'Onsdag'}"
      ]
     },
     "execution_count": 26,
     "metadata": {},
     "output_type": "execute_result"
    }
   ],
   "source": [
    "graph = nx.Graph(day=\"Onsdag\")\n",
    "graph.graph"
   ]
  },
  {
   "cell_type": "code",
   "execution_count": 27,
   "metadata": {
    "collapsed": false
   },
   "outputs": [
    {
     "data": {
      "text/plain": [
       "{'day': 'Mandag'}"
      ]
     },
     "execution_count": 27,
     "metadata": {},
     "output_type": "execute_result"
    }
   ],
   "source": [
    "graph.graph[\"day\"] = \"Mandag\"\n",
    "graph.graph"
   ]
  },
  {
   "cell_type": "markdown",
   "metadata": {},
   "source": [
    "# Node attributes"
   ]
  },
  {
   "cell_type": "code",
   "execution_count": 28,
   "metadata": {
    "collapsed": false
   },
   "outputs": [
    {
     "data": {
      "text/plain": [
       "{'time': '5pm'}"
      ]
     },
     "execution_count": 28,
     "metadata": {},
     "output_type": "execute_result"
    }
   ],
   "source": [
    "graph.add_node(1,time=\"5pm\")\n",
    "graph.add_nodes_from([5], time='2pm')\n",
    "graph.node[1]"
   ]
  },
  {
   "cell_type": "code",
   "execution_count": 29,
   "metadata": {
    "collapsed": false
   },
   "outputs": [
    {
     "data": {
      "text/plain": [
       "[(1, {'room': 714, 'time': '5pm'}), (5, {'time': '2pm'})]"
      ]
     },
     "execution_count": 29,
     "metadata": {},
     "output_type": "execute_result"
    }
   ],
   "source": [
    "\n",
    "graph.node[1]['room'] = 714\n",
    "graph.nodes(data=True)"
   ]
  },
  {
   "cell_type": "markdown",
   "metadata": {},
   "source": [
    "# Edge Attributes"
   ]
  },
  {
   "cell_type": "code",
   "execution_count": 30,
   "metadata": {
    "collapsed": false
   },
   "outputs": [],
   "source": [
    "graph.add_edge(1,2,weight=4.7)\n",
    "edgelist = [(3,4),(4,5)]\n",
    "edgelist2 = [(1,2,{'color':'blue'}), (2,3,{'weight':8})]\n",
    "graph.add_edges_from(edgelist, color='red')\n",
    "graph.add_edges_from(edgelist2)\n",
    "# adding attributes with subscript notation\n",
    "graph[1][2][\"weight\"] = 4.7\n",
    "# adding with .edge\n",
    "graph.edge[1][2][\"weight\"] = 4"
   ]
  },
  {
   "cell_type": "markdown",
   "metadata": {},
   "source": [
    "# Directed graphs"
   ]
  },
  {
   "cell_type": "code",
   "execution_count": 31,
   "metadata": {
    "collapsed": false
   },
   "outputs": [
    {
     "data": {
      "text/plain": [
       "0.5"
      ]
     },
     "execution_count": 31,
     "metadata": {},
     "output_type": "execute_result"
    }
   ],
   "source": [
    "DG = nx.DiGraph()\n",
    "DG.add_weighted_edges_from([(1,2,0.5), (3,1,0.75)])\n",
    "DG.out_degree(1, weight = \"weight\")"
   ]
  },
  {
   "cell_type": "code",
   "execution_count": 32,
   "metadata": {
    "collapsed": false
   },
   "outputs": [
    {
     "data": {
      "text/plain": [
       "1.25"
      ]
     },
     "execution_count": 32,
     "metadata": {},
     "output_type": "execute_result"
    }
   ],
   "source": [
    "DG.degree(1,weight=\"weight\")"
   ]
  },
  {
   "cell_type": "code",
   "execution_count": 33,
   "metadata": {
    "collapsed": false
   },
   "outputs": [
    {
     "data": {
      "text/plain": [
       "[2]"
      ]
     },
     "execution_count": 33,
     "metadata": {},
     "output_type": "execute_result"
    }
   ],
   "source": [
    "DG.successors(1)"
   ]
  },
  {
   "cell_type": "code",
   "execution_count": 34,
   "metadata": {
    "collapsed": false
   },
   "outputs": [
    {
     "data": {
      "text/plain": [
       "[2]"
      ]
     },
     "execution_count": 34,
     "metadata": {},
     "output_type": "execute_result"
    }
   ],
   "source": [
    "DG.neighbors(1)"
   ]
  },
  {
   "cell_type": "code",
   "execution_count": 35,
   "metadata": {
    "collapsed": true
   },
   "outputs": [],
   "source": [
    "H = nx.Graph(DG)"
   ]
  },
  {
   "cell_type": "code",
   "execution_count": 36,
   "metadata": {
    "collapsed": false
   },
   "outputs": [
    {
     "name": "stdout",
     "output_type": "stream",
     "text": [
      "[1, 2, 3]\n",
      "[(1, 2), (1, 3)]\n"
     ]
    }
   ],
   "source": [
    "print(H.nodes())\n",
    "print(H.edges())\n"
   ]
  },
  {
   "cell_type": "markdown",
   "metadata": {},
   "source": [
    "# Multigraphs"
   ]
  },
  {
   "cell_type": "code",
   "execution_count": 37,
   "metadata": {
    "collapsed": false
   },
   "outputs": [
    {
     "data": {
      "text/plain": [
       "{1: 1.25, 2: 1.75, 3: 0.5}"
      ]
     },
     "execution_count": 37,
     "metadata": {},
     "output_type": "execute_result"
    }
   ],
   "source": [
    "# A multigraph can add the same edge twice with different edge data.\n",
    "MG = nx.MultiGraph()\n",
    "edgelist = [(1,2,.5), (1,2,.75), (2,3,.5)]\n",
    "MG.add_weighted_edges_from(edgelist)\n",
    "MG.degree(weight=\"weight\")"
   ]
  },
  {
   "cell_type": "code",
   "execution_count": 38,
   "metadata": {
    "collapsed": false
   },
   "outputs": [
    {
     "data": {
      "text/plain": [
       "[1, 2, 3]"
      ]
     },
     "execution_count": 38,
     "metadata": {},
     "output_type": "execute_result"
    }
   ],
   "source": [
    "GG = nx.Graph()\n",
    "for node, numbers in MG.adjacency_iter():\n",
    "    for number, edgedict in numbers.items():\n",
    "        minvalue = min([d[\"weight\"] for d in edgedict.values()])\n",
    "        #minvalue = 0.5 ?!?!?! \n",
    "        GG.add_edge(node,number,weight = minvalue)\n",
    "\n",
    "nx.shortest_path(GG, 1, 3)"
   ]
  },
  {
   "cell_type": "code",
   "execution_count": 39,
   "metadata": {
    "collapsed": false
   },
   "outputs": [
    {
     "data": {
      "text/plain": [
       "[(1, 2, {'weight': 0.5}), (2, 3, {'weight': 0.5})]"
      ]
     },
     "execution_count": 39,
     "metadata": {},
     "output_type": "execute_result"
    }
   ],
   "source": [
    "GG.edges(data=True)"
   ]
  },
  {
   "cell_type": "code",
   "execution_count": 40,
   "metadata": {
    "collapsed": false
   },
   "outputs": [
    {
     "name": "stdout",
     "output_type": "stream",
     "text": [
      "set([1, 2, 3])\n"
     ]
    }
   ],
   "source": [
    "#Getting connected components from a graph\n",
    "for component in nx.connected_components(GG):\n",
    "    print(component)"
   ]
  },
  {
   "cell_type": "code",
   "execution_count": 41,
   "metadata": {
    "collapsed": false
   },
   "outputs": [
    {
     "data": {
      "text/plain": [
       "[1, 2, 1]"
      ]
     },
     "execution_count": 41,
     "metadata": {},
     "output_type": "execute_result"
    }
   ],
   "source": [
    "# Getting the degree of the nodes\n",
    "nx.degree(GG).values()"
   ]
  },
  {
   "cell_type": "code",
   "execution_count": 42,
   "metadata": {
    "collapsed": false
   },
   "outputs": [
    {
     "data": {
      "text/plain": [
       "{1: 1.0, 2: 1.0, 3: 1.0}"
      ]
     },
     "execution_count": 42,
     "metadata": {},
     "output_type": "execute_result"
    }
   ],
   "source": [
    "# getting clustering coefficient\n",
    "GG.add_edge(1,3,weight = 0.5) # This makes the graph complete and the coefficient is now 1\n",
    "nx.clustering(GG)"
   ]
  },
  {
   "cell_type": "code",
   "execution_count": 43,
   "metadata": {
    "collapsed": true
   },
   "outputs": [],
   "source": [
    "import matplotlib.pyplot as plt\n",
    "% matplotlib inline"
   ]
  },
  {
   "cell_type": "code",
   "execution_count": 44,
   "metadata": {
    "collapsed": false
   },
   "outputs": [
    {
     "data": {
      "image/png": "[encoded data removed]",
      "text/plain": [
       "<matplotlib.figure.Figure at 0x7f14e32c8550>"
      ]
     },
     "metadata": {},
     "output_type": "display_data"
    }
   ],
   "source": [
    "nx.draw(GG)"
   ]
  },
  {
   "cell_type": "code",
   "execution_count": 45,
   "metadata": {
    "collapsed": false
   },
   "outputs": [
    {
     "data": {
      "image/png": "[encoded data removed]",
      "text/plain": [
       "<matplotlib.figure.Figure at 0x7f150c491250>"
      ]
     },
     "metadata": {},
     "output_type": "display_data"
    }
   ],
   "source": [
    "nx.draw_random(GG)"
   ]
  },
  {
   "cell_type": "code",
   "execution_count": 46,
   "metadata": {
    "collapsed": false
   },
   "outputs": [
    {
     "data": {
      "image/png": "[encoded data removed]",
      "text/plain": [
       "<matplotlib.figure.Figure at 0x7f14e06f5290>"
      ]
     },
     "metadata": {},
     "output_type": "display_data"
    }
   ],
   "source": [
    "nx.draw_circular(GG)"
   ]
  },
  {
   "cell_type": "code",
   "execution_count": 47,
   "metadata": {
    "collapsed": false
   },
   "outputs": [
    {
     "data": {
      "image/png": "[encoded data removed]",
      "text/plain": [
       "<matplotlib.figure.Figure at 0x7f14e06a1290>"
      ]
     },
     "metadata": {},
     "output_type": "display_data"
    }
   ],
   "source": [
    "nx.draw_spectral(GG)"
   ]
  },
  {
   "cell_type": "code",
   "execution_count": 48,
   "metadata": {
    "collapsed": false
   },
   "outputs": [
    {
     "data": {
      "image/png": "[encoded data removed]",
      "text/plain": [
       "<matplotlib.figure.Figure at 0x7f14e0550ad0>"
      ]
     },
     "metadata": {},
     "output_type": "display_data"
    }
   ],
   "source": [
    "H = nx.random_lobster(100,0.9,0.9)\n",
    "nx.draw(H,node_size = 50, with_labels=False,node_color='#7FA8FF')\n"
   ]
  },
  {
   "cell_type": "code",
   "execution_count": 49,
   "metadata": {
    "collapsed": false
   },
   "outputs": [],
   "source": [
    "from networkx.drawing.nx_pydot import write_dot\n",
    "from networkx.drawing.nx_agraph import graphviz_layout\n"
   ]
  },
  {
   "cell_type": "code",
   "execution_count": 50,
   "metadata": {
    "collapsed": false
   },
   "outputs": [],
   "source": [
    "# G = nx.complete_graph(5)\n",
    "# pos = graphviz_layout(G)\n",
    "# nx.draw_graphviz(G,pos)"
   ]
  },
  {
   "cell_type": "markdown",
   "metadata": {
    "collapsed": true
   },
   "source": [
    "# Part 2"
   ]
  },
  {
   "cell_type": "markdown",
   "metadata": {},
   "source": [
    "> * Go to NS Section 2.12: Homework, then\n",
    ">   * Write the solution exercise **2.1** (the 'Königsberg Problem') from NS in your `notebook`. \n",
    "\n",
    "\n",
    "\n",
    "\n",
    ">   * Solve exercise **2.3** ('Graph representation') from NS using `NetworkX` in your `notebook`. (You don't have to solve the last sub-question about *cycles of length 4* ... but I'll be impressed if you do it).\n",
    ">   * Solve exercise **2.5** ('Bipartite Networks') from NS using `NetworkX` in your `notebook`.\n",
    "> "
   ]
  },
  {
   "cell_type": "markdown",
   "metadata": {},
   "source": [
    ">  Königsberg Problem\n",
    "    > * Which of the icons in Image 2.19 can be drawn without raising yourpencil from the paper, and without drawing any line more than once? Why?\n",
    "    \n",
    "> Its possible to draw a) ,c) ,d). This is because if we model the problem as a graph where the lines represent links as where the any line crosses eachother line as a node.\n",
    "\n",
    "> Then this problem can be seen as an euler walk. Because the lines are drawn/traversed only once. For the walk to be possible there are maximally two nodes that can have a uneven number of links going into it. The drawing b) has 4 nodes with uneven links connected to it. Therefore theres is no be solved\n",
    "\n"
   ]
  },
  {
   "cell_type": "markdown",
   "metadata": {},
   "source": [
    "\n",
    ">   * Solve exercise **2.3** ('Graph representation') from NS using `NetworkX` in your `notebook`. (You don't have to solve the last sub-question about *cycles of length 4* ... but I'll be impressed if you do it)."
   ]
  },
  {
   "cell_type": "code",
   "execution_count": 54,
   "metadata": {
    "collapsed": false
   },
   "outputs": [
    {
     "data": {
      "image/png": "[encoded data removed]",
      "text/plain": [
       "<matplotlib.figure.Figure at 0x7f14e32c8990>"
      ]
     },
     "metadata": {},
     "output_type": "display_data"
    }
   ],
   "source": [
    "import matplotlib.pyplot as plt\n",
    "% matplotlib inline\n",
    "# Creating the a) undirected graph\n",
    "a_graph = nx.Graph()\n",
    "\n",
    "# adding nodes\n",
    "a_nodelist = [1,2,3,4,5 ,6]\n",
    "a_graph.add_nodes_from(a_nodelist)\n",
    "\n",
    "# adding edges\n",
    "a_edgelist = [(1,2),(1,3),(1,4),(1,6),(2,3),(2,4),(3,6)]\n",
    "a_graph.add_edges_from(a_edgelist)\n",
    "\n",
    "# draw graph\n",
    "nx.draw_circular(a_graph, with_labels=True, node_size=1000, node_color='blue')"
   ]
  },
  {
   "cell_type": "code",
   "execution_count": 55,
   "metadata": {
    "collapsed": false
   },
   "outputs": [
    {
     "data": {
      "image/png": "[encoded data removed]",
      "text/plain": [
       "<matplotlib.figure.Figure at 0x7f14e0d382d0>"
      ]
     },
     "metadata": {},
     "output_type": "display_data"
    }
   ],
   "source": [
    "# creating the b) directed graph\n",
    "\n",
    "b_graph = nx.DiGraph()\n",
    "b_nodelist = [1,2,3,4,5,6]\n",
    "b_graph.add_nodes_from(b_nodelist)\n",
    "\n",
    "b_edgelist = [(1,2),\n",
    "             (2,3),(2,4),\n",
    "             (3,2),(3,1),\n",
    "             (4,1),\n",
    "             (6,1),(6,3)]\n",
    "b_graph.add_edges_from(b_edgelist)\n",
    "\n",
    "nx.draw_circular(b_graph,with_labels=True,node_size=1000)"
   ]
  },
  {
   "cell_type": "code",
   "execution_count": 58,
   "metadata": {
    "collapsed": false
   },
   "outputs": [
    {
     "name": "stdout",
     "output_type": "stream",
     "text": [
      "('a_graph', 0.6388888888888888)\n"
     ]
    }
   ],
   "source": [
    "def average_cluster_coefficient(graph, message):\n",
    "    average_cluster_coefficient = nx.average_clustering(graph)\n",
    "    print(message,average_cluster_coefficient)\n",
    "\n",
    "# - Determining average clustering coefficient for graph a\n",
    "average_cluster_coefficient(a_graph, \"a_graph\")\n"
   ]
  },
  {
   "cell_type": "code",
   "execution_count": 59,
   "metadata": {
    "collapsed": false
   },
   "outputs": [
    {
     "data": {
      "image/png": "[encoded data removed]",
      "text/plain": [
       "<matplotlib.figure.Figure at 0x7f14e0491fd0>"
      ]
     },
     "metadata": {},
     "output_type": "display_data"
    }
   ],
   "source": [
    "# - If you switch the labels of nodes 5 and 6 in Image 2.20a, how does that move change the adjacency matrix? And the link list?\n",
    "\n",
    "a_graph_changed = nx.Graph()\n",
    "\n",
    "# adding nodes\n",
    "a_nodelist = [1,2,3,4,5 ,6]\n",
    "a_graph_changed.add_nodes_from(a_nodelist)\n",
    "\n",
    "# adding edges\n",
    "a_edgelist_changed = [(1,2),(1,3),(1,4),(1,5),(2,3),(2,4),(3,5)]\n",
    "a_graph_changed.add_edges_from(a_edgelist_changed)\n",
    "\n",
    "nx.draw_circular(a_graph_changed, with_labels=True, node_size=1000, node_color='blue')"
   ]
  },
  {
   "cell_type": "code",
   "execution_count": 60,
   "metadata": {
    "collapsed": true
   },
   "outputs": [],
   "source": [
    "# What kind of information can you not infer from the link list representation of the network \n",
    "# that you can infer from the adjacency matrix?\n",
    "\n",
    "# If the network as disconnected components\n",
    "# It is possible to determain the ki degree of a node by summing the row or column for that node in question. \n",
    "# The adjacency matrix can also be used to infer the number of outgoing and incomming degree for a directed graph\n",
    "# by summing over rows and columns"
   ]
  },
  {
   "cell_type": "code",
   "execution_count": 61,
   "metadata": {
    "collapsed": false
   },
   "outputs": [
    {
     "name": "stdout",
     "output_type": "stream",
     "text": [
      "a)\n",
      "[1, 4, 2, 3]\n",
      "b)\n"
     ]
    },
    {
     "data": {
      "text/plain": [
       "[]"
      ]
     },
     "execution_count": 61,
     "metadata": {},
     "output_type": "execute_result"
    }
   ],
   "source": [
    "# In the (a) network, how many paths (with possible repetition of nodes and links)\n",
    "# of length 3 exist starting from node 1 and ending at node 3? And in (b)?\n",
    "\n",
    "def path_from_source_to_target_length_n(graph,source,target,length):\n",
    "    paths = list()\n",
    "    length += 1\n",
    "    for path in nx.all_simple_paths(graph,source=source,target=target):\n",
    "        if(len(path) == length):\n",
    "            print(path)\n",
    "            paths.append(path)\n",
    "    return paths\n",
    "    \n",
    "\n",
    "print(\"a)\")\n",
    "path_from_source_to_target_length_n(a_graph,1,3,3)\n",
    "# There exists 1 path for graph a\n",
    " \n",
    "print(\"b)\")\n",
    "\n",
    "path_from_source_to_target_length_n(b_graph,1,3,3)\n",
    "        \n",
    "# There exists 0 paths from graph b\n"
   ]
  },
  {
   "cell_type": "code",
   "execution_count": 62,
   "metadata": {
    "collapsed": false
   },
   "outputs": [
    {
     "name": "stdout",
     "output_type": "stream",
     "text": [
      "graph a cycles\n",
      "[1, 6, 3, 2]\n",
      "[1, 4, 2, 3]\n",
      "[1, 3, 2, 4]\n",
      "[1, 2, 3, 6]\n",
      "graph b cycles\n"
     ]
    }
   ],
   "source": [
    "# With the help of a computer, count the number of cycles of length 4 in both networks.\n",
    "print(\"graph a cycles\")\n",
    "a_directed_graph = a_graph.to_directed()\n",
    "for cycle in nx.simple_cycles(a_directed_graph):\n",
    "    if(len(cycle) == 4):\n",
    "        print(cycle)\n",
    "\n",
    "print(\"graph b cycles\")\n",
    "for cycle in nx.simple_cycles(b_graph):\n",
    "    if(len(cycle) == 4):\n",
    "        print(cycle)"
   ]
  },
  {
   "cell_type": "markdown",
   "metadata": {},
   "source": [
    "### Solve exercise **2.5** ('Bipartite Networks') from NS using `NetworkX` in your `notebook`."
   ]
  },
  {
   "cell_type": "code",
   "execution_count": 92,
   "metadata": {
    "collapsed": false
   },
   "outputs": [
    {
     "data": {
      "image/png": "[encoded data removed]",
      "text/plain": [
       "<matplotlib.figure.Figure at 0x7f14dfa18f10>"
      ]
     },
     "metadata": {},
     "output_type": "display_data"
    }
   ],
   "source": [
    "# Creating a bigraph\n",
    "from networkx.algorithms import bipartite\n",
    "\n",
    "bi_graph = nx.Graph()\n",
    "\n",
    "purple_nodes = [1, 2, 3, 4, 5, 6]\n",
    "green_nodes = [7, 8, 9, 10, 11]\n",
    "\n",
    "bi_graph.add_nodes_from(purple_nodes,bipartite=\"purple\")\n",
    "bi_graph.add_nodes_from(green_nodes,bipartite=\"green\")\n",
    "\n",
    "\n",
    "\n",
    "bi_edges = [(1,7),\n",
    "        (2,9),\n",
    "        (3,7),(3,8),(3,9),\n",
    "        (4,9),(4,10),\n",
    "        (5,9),(5,11),\n",
    "        (6,11)]\n",
    "\n",
    "bi_graph.add_edges_from(bi_edges)\n",
    "\n",
    "nx.draw_spring(bi_graph, with_labels = True,node_size=1000)\n"
   ]
  },
  {
   "cell_type": "code",
   "execution_count": 64,
   "metadata": {
    "collapsed": false
   },
   "outputs": [
    {
     "name": "stdout",
     "output_type": "stream",
     "text": [
      "('Total average', 1.8181818181818181)\n",
      "('Purple nodes', 1.6666666666666667)\n",
      "('Green nodes', 2.0)\n"
     ]
    }
   ],
   "source": [
    "# Calculate the average degree of the purple nodes and the average degree of the green nodes in the bipartite network.\n",
    "\n",
    "def average_degree(graph,nodes):\n",
    "    degree_dict = graph.degree(nodes)\n",
    "    counter = 0.0\n",
    "    for node in degree_dict.keys():\n",
    "        counter += degree_dict[node]\n",
    "    average_degree = counter / len(degree_dict)\n",
    "    \n",
    "    return average_degree\n",
    "\n",
    "print(\"Total average\" , average_degree(bi_graph,purple_nodes + green_nodes))\n",
    "print(\"Purple nodes\" , average_degree(bi_graph,purple_nodes))\n",
    "print(\"Green nodes\", average_degree(bi_graph,green_nodes))"
   ]
  },
  {
   "cell_type": "code",
   "execution_count": 65,
   "metadata": {
    "collapsed": false
   },
   "outputs": [],
   "source": [
    "# Calculate the average degree in each of the two network projections.\n",
    "# Is it surprising that the values are different from those obtained in point (c)?\n",
    "def draw_projection(graph, nodes, color):\n",
    "    projection = bipartite.projected_graph(graph, nodes)\n",
    "    nx.draw_circular(projection, with_labels = True, node_size=1000 , node_color=color)\n",
    "\n",
    "def average_degree_in_projection(graph, nodes):\n",
    "    projection = bipartite.projected_graph(graph, nodes)\n",
    "    return average_degree(projection, nodes)\n",
    "    \n"
   ]
  },
  {
   "cell_type": "code",
   "execution_count": 66,
   "metadata": {
    "collapsed": false
   },
   "outputs": [
    {
     "name": "stdout",
     "output_type": "stream",
     "text": [
      "('Average degree in green projection', 2.0)\n"
     ]
    },
    {
     "data": {
      "image/png": "[encoded data removed]",
      "text/plain": [
       "<matplotlib.figure.Figure at 0x7f14e0402b90>"
      ]
     },
     "metadata": {},
     "output_type": "display_data"
    }
   ],
   "source": [
    "draw_projection(bi_graph,green_nodes,\"green\")\n",
    "print(\"Average degree in green projection\" , average_degree_in_projection(bi_graph,green_nodes))"
   ]
  },
  {
   "cell_type": "code",
   "execution_count": 67,
   "metadata": {
    "collapsed": false
   },
   "outputs": [
    {
     "name": "stdout",
     "output_type": "stream",
     "text": [
      "('Average degree in purple projection', 2.6666666666666665)\n"
     ]
    },
    {
     "data": {
      "image/png": "[encoded data removed]",
      "text/plain": [
       "<matplotlib.figure.Figure at 0x7f14e0275510>"
      ]
     },
     "metadata": {},
     "output_type": "display_data"
    }
   ],
   "source": [
    "draw_projection(bi_graph,purple_nodes,\"purple\")\n",
    "print(\"Average degree in purple projection\" , average_degree_in_projection(bi_graph,purple_nodes))"
   ]
  },
  {
   "cell_type": "markdown",
   "metadata": {},
   "source": [
    "### Bipartite Networks - General Considerations "
   ]
  },
  {
   "cell_type": "markdown",
   "metadata": {},
   "source": [
    "- Consider the bipartite network with N1 and N2 nodes in the two sets\n"
   ]
  },
  {
   "cell_type": "markdown",
   "metadata": {},
   "source": [
    "* What is the maximum number of links Lmax the network can have?\n",
    "\n",
    "N1 * N2 "
   ]
  },
  {
   "cell_type": "markdown",
   "metadata": {},
   "source": [
    "* How many links cannot occur compared to a non-bipartite network of size N = N1 + N2 ?\n",
    "\n",
    " Lmax of complete - Lmax of bipartite\n",
    " \n",
    " N * (N - 1) - N1 * N2\n"
   ]
  },
  {
   "cell_type": "markdown",
   "metadata": {},
   "source": [
    "* If N1‹‹N2 , what can you say about the network density, that is the total number of links over the maximum number of links, Lmax?\n"
   ]
  },
  {
   "cell_type": "markdown",
   "metadata": {},
   "source": [
    "The total number of links is close to N2.\n",
    "\n",
    "But the actual network density is also related to probability for nodes to link together."
   ]
  },
  {
   "cell_type": "markdown",
   "metadata": {},
   "source": [
    "* Find an expression connecting N1, N2 and the average degree for the two sets in the bipartite network, 〈k1〉 and 〈k2〉.\n"
   ]
  },
  {
   "cell_type": "markdown",
   "metadata": {},
   "source": [
    "k1 = (N1 * N2) / N1\n",
    "\n",
    "\n",
    "k2 = (N1 * N2) / N2"
   ]
  },
  {
   "cell_type": "markdown",
   "metadata": {},
   "source": [
    "# Part 3: Plotting degree distributions"
   ]
  },
  {
   "cell_type": "code",
   "execution_count": 69,
   "metadata": {
    "collapsed": true
   },
   "outputs": [],
   "source": [
    "import matplotlib.pyplot as plt\n",
    "import numpy as np\n",
    "import random\n",
    "import networkx as nx\n",
    "% matplotlib inline"
   ]
  },
  {
   "cell_type": "code",
   "execution_count": 70,
   "metadata": {
    "collapsed": false
   },
   "outputs": [],
   "source": [
    "# Binning real numbers\n",
    "random_normal = np.random.normal(loc=0.125, scale=2, size=1000)\n"
   ]
  },
  {
   "cell_type": "code",
   "execution_count": 71,
   "metadata": {
    "collapsed": false
   },
   "outputs": [],
   "source": [
    "hist, bin_edges = np.histogram(random_normal,bins=10)"
   ]
  },
  {
   "cell_type": "code",
   "execution_count": 72,
   "metadata": {
    "collapsed": false
   },
   "outputs": [
    {
     "name": "stdout",
     "output_type": "stream",
     "text": [
      "[  2   5  24  88 197 311 232 112  21   8]\n",
      "10\n",
      "[-8.13650889 -6.66441944 -5.19232999 -3.72024054 -2.24815109 -0.77606165\n",
      "  0.6960278   2.16811725  3.6402067   5.11229615  6.5843856 ]\n",
      "11\n"
     ]
    }
   ],
   "source": [
    "# The two arrays does not have the same length\n",
    "# The distributions are placed between the numbers\n",
    "print(hist)\n",
    "print(len(hist))\n",
    "print(bin_edges)\n",
    "print(len(bin_edges))"
   ]
  },
  {
   "cell_type": "code",
   "execution_count": 73,
   "metadata": {
    "collapsed": false
   },
   "outputs": [
    {
     "data": {
      "text/plain": [
       "(array([   2.,    5.,   24.,   88.,  197.,  311.,  232.,  112.,   21.,    8.]),\n",
       " array([-8.13650889, -6.66441944, -5.19232999, -3.72024054, -2.24815109,\n",
       "        -0.77606165,  0.6960278 ,  2.16811725,  3.6402067 ,  5.11229615,\n",
       "         6.5843856 ]),\n",
       " <a list of 10 Patch objects>)"
      ]
     },
     "execution_count": 73,
     "metadata": {},
     "output_type": "execute_result"
    },
    {
     "data": {
      "image/png": "[encoded data removed]",
      "text/plain": [
       "<matplotlib.figure.Figure at 0x7f14e01f6a10>"
      ]
     },
     "metadata": {},
     "output_type": "display_data"
    }
   ],
   "source": [
    "# Plotting the binned data\n",
    "plt.hist(random_normal,bins=10)"
   ]
  },
  {
   "cell_type": "code",
   "execution_count": 74,
   "metadata": {
    "collapsed": false
   },
   "outputs": [],
   "source": [
    "# Binning integers\n",
    "poisson_dist = np.random.poisson(size=5000,lam=10)"
   ]
  },
  {
   "cell_type": "code",
   "execution_count": 75,
   "metadata": {
    "collapsed": false
   },
   "outputs": [
    {
     "name": "stdout",
     "output_type": "stream",
     "text": [
      "1\n",
      "23\n"
     ]
    }
   ],
   "source": [
    "# Minimum value\n",
    "min_value = np.min(poisson_dist)\n",
    "print(min_value)\n",
    "\n",
    "# Max value\n",
    "max_value = np.max(poisson_dist)\n",
    "print(max_value)"
   ]
  },
  {
   "cell_type": "markdown",
   "metadata": {},
   "source": [
    "Instead of simplify specifying the number of bins for numpy.histogram, let's specify the bins we want using a vector. Create a vector that results in a binning that puts each integer value in its own bin and where the first bin contains the minimum number you found above, and the last bin contains the maximum number. What is the sum over bin counts? Explain how the binning-vectors first and last element relates to the min and max from the Poisson distribution."
   ]
  },
  {
   "cell_type": "code",
   "execution_count": 76,
   "metadata": {
    "collapsed": false
   },
   "outputs": [],
   "source": [
    "# The sum of bin counts equals 5000\n",
    "bin_vector = [i for i in range(min_value,max_value) ]\n",
    "hist, bin_edges = np.histogram(poisson_dist, bins= bin_vector)\n"
   ]
  },
  {
   "cell_type": "code",
   "execution_count": 77,
   "metadata": {
    "collapsed": false
   },
   "outputs": [
    {
     "data": {
      "text/plain": [
       "(array([   1.,   11.,   37.,   95.,  192.,  287.,  489.,  551.,  617.,\n",
       "         623.,  570.,  502.,  356.,  258.,  159.,  114.,   70.,   30.,\n",
       "          14.,   12.,   10.]),\n",
       " array([ 1,  2,  3,  4,  5,  6,  7,  8,  9, 10, 11, 12, 13, 14, 15, 16, 17,\n",
       "        18, 19, 20, 21, 22]),\n",
       " <a list of 21 Patch objects>)"
      ]
     },
     "execution_count": 77,
     "metadata": {},
     "output_type": "execute_result"
    },
    {
     "data": {
      "image/png": "[encoded data removed]",
      "text/plain": [
       "<matplotlib.figure.Figure at 0x7f14e0289f10>"
      ]
     },
     "metadata": {},
     "output_type": "display_data"
    }
   ],
   "source": [
    "# Plot using hist \n",
    "# This is as a incorrect plot\n",
    "plt.hist(poisson_dist,bins=bin_vector)"
   ]
  },
  {
   "cell_type": "code",
   "execution_count": 78,
   "metadata": {
    "collapsed": false
   },
   "outputs": [
    {
     "data": {
      "text/plain": [
       "<Container object of 21 artists>"
      ]
     },
     "execution_count": 78,
     "metadata": {},
     "output_type": "execute_result"
    },
    {
     "data": {
      "image/png": "[encoded data removed]",
      "text/plain": [
       "<matplotlib.figure.Figure at 0x7f14e042d990>"
      ]
     },
     "metadata": {},
     "output_type": "display_data"
    }
   ],
   "source": [
    "# Now, use a bar chart (matplotlib.pyplot.bar) to plot the distribution\n",
    "index = np.arange(len(hist))\n",
    "plt.bar(index,hist)"
   ]
  },
  {
   "cell_type": "markdown",
   "metadata": {},
   "source": [
    " * Binning and plotting degree distributions.\n",
    " \n",
    "Let's generate the Erdös-Renyi (ER) network which has a degree distribution that matches the Poisson distribution above. First we have to figure out which values the ER parameters (N and p) should assume. It's easy to see that N=5000N=5000, but how do you find pp? Hint: The parameter λλ in the Poisson distribution corresponds to the average degree, so you have to find a pp that results in an average degree, k=10k=10. And you know that ⟨k⟩=p(N−1)⟨k⟩=p(N−1), which will give you pp. Note that Python by default returns the result of divisions as the most precise of the datatypes involved (for instance, try computing 1/2 and 1.0/2.0 in your notebook). If you want division to always give you a decimal number, you can enter from __future__ import division at the beginning of your notebook."
   ]
  },
  {
   "cell_type": "code",
   "execution_count": 79,
   "metadata": {
    "collapsed": true
   },
   "outputs": [],
   "source": [
    "# creating the ER network\n",
    "p = 10.0 / (5000 - 1)\n",
    "er_graph = nx.gnp_random_graph(5000,p)\n"
   ]
  },
  {
   "cell_type": "markdown",
   "metadata": {},
   "source": [
    "Now, use networkx to create the graph and extract the degree distribution."
   ]
  },
  {
   "cell_type": "code",
   "execution_count": 108,
   "metadata": {
    "collapsed": false
   },
   "outputs": [],
   "source": [
    "def create_histogram_from_graph(graph):\n",
    "    \n",
    "    min_value = np.min(nx.degree(graph).values())\n",
    "    max_value = np.max(nx.degree(graph).values())\n",
    "\n",
    "    bin_vector = [i for i in range(min_value,max_value) ]\n",
    "    hist, bin_edges = np.histogram(nx.degree(graph).values(), bins = bin_vector)\n",
    "    \n",
    "    return hist\n",
    "    \n",
    "def create_bar_from_hist(hist):\n",
    "    index = np.arange(len(hist))\n",
    "    plt.ylabel(\"Number of nodes\")\n",
    "    plt.xlabel(\"Node degree\")\n",
    "    plt.bar(index,hist)\n",
    "\n",
    "hist = create_histogram_from_graph(er_graph)\n"
   ]
  },
  {
   "cell_type": "markdown",
   "metadata": {},
   "source": [
    "Finally, create a nice bar plot of the degree distribution, including axes labels and a plot title. Make sure that it looks like the Poisson distribution you plotted above."
   ]
  },
  {
   "cell_type": "code",
   "execution_count": 109,
   "metadata": {
    "collapsed": false
   },
   "outputs": [
    {
     "data": {
      "image/png": "[encoded data removed]",
      "text/plain": [
       "<matplotlib.figure.Figure at 0x7f14df58f790>"
      ]
     },
     "metadata": {},
     "output_type": "display_data"
    }
   ],
   "source": [
    "create_bar_from_hist(hist)"
   ]
  },
  {
   "cell_type": "markdown",
   "metadata": {
    "collapsed": true
   },
   "source": [
    "# Part 4: Random networks"
   ]
  },
  {
   "cell_type": "markdown",
   "metadata": {},
   "source": [
    "Work through NS exercise 3.1 ('Erdős-Rényi Networks'). The exercise can be found in Section 3.11: Homework."
   ]
  },
  {
   "cell_type": "markdown",
   "metadata": {},
   "source": [
    "Erdős-Rényi Networks\n",
    "\n",
    "Consider an Erdős-Rényi network with N = 3,000 nodes, connected to each other with probability p = 10–3.\n",
    "\n",
    "What is the expected number of links, 〈L〉?\n",
    "\n"
   ]
  },
  {
   "cell_type": "code",
   "execution_count": 82,
   "metadata": {
    "collapsed": false
   },
   "outputs": [
    {
     "data": {
      "text/plain": [
       "4498.5"
      ]
     },
     "execution_count": 82,
     "metadata": {},
     "output_type": "execute_result"
    }
   ],
   "source": [
    "import math\n",
    "# The expected is \n",
    "def average_number_of_links(p,n):\n",
    "    return p * ((n *( n-1))/2 )\n",
    "\n",
    "average_number_of_links(10**-3,3000)"
   ]
  },
  {
   "cell_type": "markdown",
   "metadata": {},
   "source": [
    "In which regime is the network?\n",
    "\n"
   ]
  },
  {
   "cell_type": "code",
   "execution_count": 83,
   "metadata": {
    "collapsed": false
   },
   "outputs": [
    {
     "name": "stdout",
     "output_type": "stream",
     "text": [
      "('k', 2.999)\n",
      "('lnN', 8.006367567650246)\n"
     ]
    }
   ],
   "source": [
    "def average_degree_k(p,n):\n",
    "    return p * (n-1)\n",
    "k = average_degree_k(10**-3,3000)\n",
    "lnN = math.log(3000)\n",
    "print(\"k\", k)\n",
    "print(\"lnN\", lnN)\n",
    "# The network is in the supercritical regime\n",
    "# k > 1 and p > 1/N"
   ]
  },
  {
   "cell_type": "markdown",
   "metadata": {},
   "source": [
    "Calculate the probability p(c) so that the network is at the critical point\n",
    "\n",
    "k = 1 = p * (N-1)\n",
    "\n",
    "p = 1/(N-1)"
   ]
  },
  {
   "cell_type": "code",
   "execution_count": 95,
   "metadata": {
    "collapsed": false
   },
   "outputs": [
    {
     "name": "stdout",
     "output_type": "stream",
     "text": [
      "0.000333444481494\n"
     ]
    }
   ],
   "source": [
    "N = 3000\n",
    "pc = 1.0 / (N - 1)\n",
    "print(pc)"
   ]
  },
  {
   "cell_type": "code",
   "execution_count": 96,
   "metadata": {
    "collapsed": false
   },
   "outputs": [],
   "source": [
    "# p(1)\n",
    "def k_connections_probability(p,k):\n",
    "    return p**k\n",
    "\n",
    "def none_k_connect_probability(p,N,k):\n",
    "    return (1-p)**(N-1-k)\n",
    "\n",
    "def potential_links(N,k):\n",
    "    return math.factorial(N) / (math.factorial(k) * math.factorial(N - k))\n",
    "\n",
    "\n"
   ]
  },
  {
   "cell_type": "markdown",
   "metadata": {},
   "source": [
    "Given the linking probability p = 10–3, calculate the number of nodes Ncr so that the network has only one component."
   ]
  },
  {
   "cell_type": "code",
   "execution_count": 97,
   "metadata": {
    "collapsed": false
   },
   "outputs": [
    {
     "name": "stdout",
     "output_type": "stream",
     "text": [
      "('Nrc', 1002.0)\n"
     ]
    }
   ],
   "source": [
    "# k = 1\n",
    "# 1 = p * (N - 1)\n",
    "p = 10**-3\n",
    "Ncr = 1 + (1/p) + 1\n",
    "k = p*(Ncr - 1)\n",
    "\n",
    "print(\"Nrc\", Ncr)"
   ]
  },
  {
   "cell_type": "code",
   "execution_count": null,
   "metadata": {
    "collapsed": false
   },
   "outputs": [],
   "source": []
  },
  {
   "cell_type": "markdown",
   "metadata": {},
   "source": [
    "For the network in (d), calculate the average degree 〈kcr〉 and the average distance between two randomly chosen nodes 〈d〉."
   ]
  },
  {
   "cell_type": "code",
   "execution_count": 98,
   "metadata": {
    "collapsed": false
   },
   "outputs": [
    {
     "name": "stdout",
     "output_type": "stream",
     "text": [
      "1.001\n",
      "6913.20758276\n"
     ]
    }
   ],
   "source": [
    "def average_distance(N,k):\n",
    "    return math.log(N) / math.log(k)\n",
    "print(k)\n",
    "print(average_distance(Ncr,k))"
   ]
  },
  {
   "cell_type": "markdown",
   "metadata": {},
   "source": [
    "Calculate the degree distribution pk of this network (approximate with a Poisson degree distribution)."
   ]
  },
  {
   "cell_type": "code",
   "execution_count": 99,
   "metadata": {
    "collapsed": false
   },
   "outputs": [
    {
     "data": {
      "text/plain": [
       "0.36787944117144233"
      ]
     },
     "execution_count": 99,
     "metadata": {},
     "output_type": "execute_result"
    }
   ],
   "source": [
    "def degree_distribution_poisson_approximation(k):\n",
    "    return math.exp(-k)*(k**k / math.factorial(k))\n",
    "\n",
    "degree_distribution_poisson_approximation(1)\n"
   ]
  },
  {
   "cell_type": "markdown",
   "metadata": {},
   "source": [
    "### Paths. Plot a random network with 200 nodes and an average degree of 1.5. (I suggest using networkx.draw and reading the documentation carefully to get an overview of all the options and what they look like. For example, you may want to shrink the node size)."
   ]
  },
  {
   "cell_type": "code",
   "execution_count": 100,
   "metadata": {
    "collapsed": false
   },
   "outputs": [
    {
     "data": {
      "image/png": "[encoded data removed]",
      "text/plain": [
       "<matplotlib.figure.Figure at 0x7f14e059c8d0>"
      ]
     },
     "metadata": {},
     "output_type": "display_data"
    }
   ],
   "source": [
    "N = 200\n",
    "p = 1.5 / (N - 1)\n",
    "\n",
    "random_network = nx.gnp_random_graph(N, p)\n",
    "\n",
    "pos = nx.spring_layout(random_network, scale = 1.0 )\n",
    "nx.draw(random_network, pos , node_size = 50)\n"
   ]
  },
  {
   "cell_type": "markdown",
   "metadata": {},
   "source": [
    "Extract the Giant Connected Component, GCC. (Hint. You can use networkx.connected_component_subgraphs)"
   ]
  },
  {
   "cell_type": "code",
   "execution_count": 101,
   "metadata": {
    "collapsed": false
   },
   "outputs": [],
   "source": [
    "giant_connected_component = max(nx.connected_component_subgraphs(random_network) , key=len)"
   ]
  },
  {
   "cell_type": "markdown",
   "metadata": {},
   "source": [
    "Choose a node at random from the GCC. (Hint: You may want to try random.choice.)"
   ]
  },
  {
   "cell_type": "code",
   "execution_count": 102,
   "metadata": {
    "collapsed": false
   },
   "outputs": [],
   "source": [
    "random_node = random.choice(giant_connected_component.nodes())"
   ]
  },
  {
   "cell_type": "markdown",
   "metadata": {},
   "source": [
    "Find all nodes that are precisely 2 steps away from that node. (Hint. I suggest networkx.single_source_shortest_path_length)"
   ]
  },
  {
   "cell_type": "code",
   "execution_count": 103,
   "metadata": {
    "collapsed": false
   },
   "outputs": [],
   "source": [
    "def nodes_n_steps_away(graph,source,cutoff):\n",
    "\n",
    "    random_path = nx.single_source_shortest_path_length(graph,source=source,cutoff= cutoff)\n",
    "    \n",
    "    nodes_n_steps_away = list()\n",
    "    for node in random_path:\n",
    "        if random_path[node] == cutoff:       \n",
    "            nodes_n_steps_away.append(node)\n",
    "            \n",
    "    return nodes_n_steps_away\n",
    "\n",
    "\n"
   ]
  },
  {
   "cell_type": "markdown",
   "metadata": {},
   "source": [
    "Plot the GCC with the following choice of colors. Starting node black (\"#000000\"). The nodes 2 steps away red (\"#ff0000\").\n",
    "\n",
    "All other nodes blue (\"#A0CBE2\"). Again, I suggest using networkx.draw_networkx() and reading the documentation carefully find out how to color individual nodes."
   ]
  },
  {
   "cell_type": "code",
   "execution_count": 104,
   "metadata": {
    "collapsed": false
   },
   "outputs": [],
   "source": [
    "# Color all edges black\n",
    "def color_edges(graph,color):\n",
    "    \n",
    "    for e in graph.edges():\n",
    "        graph[e[0]][e[1]]['color'] = color\n",
    " \n",
    "def color_edges_between_nodes(graph ,nodes_n_steps_away, source, length, color):\n",
    "    # Color paths\n",
    "    for node in nodes_n_steps_away:\n",
    "        paths = path_from_source_to_target_length_n(graph, source, node,length)\n",
    "        path = paths[0]\n",
    "        for i in xrange(len(path)-1):\n",
    "            graph[path[i]][path[i+1]]['color'] = color\n",
    "\n",
    "def create_edge_color_list(graph):\n",
    "    edge_color_list = [ graph[e[0]][e[1]]['color'] for e in graph.edges() ]\n",
    "    return edge_color_list    \n"
   ]
  },
  {
   "cell_type": "markdown",
   "metadata": {},
   "source": [
    "# Refactor the code below!"
   ]
  },
  {
   "cell_type": "code",
   "execution_count": 105,
   "metadata": {
    "collapsed": false
   },
   "outputs": [
    {
     "name": "stdout",
     "output_type": "stream",
     "text": [
      "[163, 171, 133]\n",
      "[163, 135, 110]\n",
      "[163, 171, 107]\n",
      "[163, 135, 52]\n",
      "[163, 171, 26]\n"
     ]
    },
    {
     "data": {
      "text/plain": [
       "<matplotlib.collections.LineCollection at 0x7f14df697e10>"
      ]
     },
     "execution_count": 105,
     "metadata": {},
     "output_type": "execute_result"
    },
    {
     "data": {
      "image/png": "[encoded data removed]",
      "text/plain": [
       "<matplotlib.figure.Figure at 0x7f14dfa7d390>"
      ]
     },
     "metadata": {},
     "output_type": "display_data"
    }
   ],
   "source": [
    "nodes_2_steps_away = nodes_n_steps_away(random_network,random_node,2)\n",
    "\n",
    "color_edges(random_network,\"black\")\n",
    "color_edges_between_nodes(random_network, nodes_2_steps_away, random_node, 2 , \"red\")\n",
    "edge_color_list = create_edge_color_list(random_network)\n",
    "\n",
    "\n",
    "# Drawing graph\n",
    "\n",
    "# Color Nodes \n",
    "nx.draw_networkx_nodes(random_network, pos, node_color=\"blue\", node_size = 50)\n",
    "nx.draw_networkx_nodes(random_network, pos, nodelist=[random_node], node_color=\"black\")\n",
    "nx.draw_networkx_nodes(random_network, pos, nodelist=nodes_2_steps_away, node_color=\"red\")\n",
    "\n",
    "# Color edges\n",
    "nx.draw_networkx_edges(random_network, pos, edge_color = edge_color_list, width=2)"
   ]
  },
  {
   "cell_type": "code",
   "execution_count": null,
   "metadata": {
    "collapsed": true
   },
   "outputs": [],
   "source": []
  },
  {
   "cell_type": "code",
   "execution_count": null,
   "metadata": {
    "collapsed": true
   },
   "outputs": [],
   "source": []
  },
  {
   "cell_type": "code",
   "execution_count": null,
   "metadata": {
    "collapsed": true
   },
   "outputs": [],
   "source": []
  },
  {
   "cell_type": "code",
   "execution_count": null,
   "metadata": {
    "collapsed": true
   },
   "outputs": [],
   "source": []
  },
  {
   "cell_type": "code",
   "execution_count": null,
   "metadata": {
    "collapsed": true
   },
   "outputs": [],
   "source": []
  }
 ],
 "metadata": {
  "anaconda-cloud": {},
  "kernelspec": {
   "display_name": "Python 2",
   "language": "python",
   "name": "python2"
  },
  "language_info": {
   "codemirror_mode": {
    "name": "ipython",
    "version": 2
   },
   "file_extension": ".py",
   "mimetype": "text/x-python",
   "name": "python",
   "nbconvert_exporter": "python",
   "pygments_lexer": "ipython2",
   "version": "2.7.11"
  }
 },
 "nbformat": 4,
 "nbformat_minor": 0
}
