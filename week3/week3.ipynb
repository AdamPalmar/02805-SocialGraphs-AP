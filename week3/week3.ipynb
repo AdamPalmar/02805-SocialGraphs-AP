{
 "cells": [
  {
   "cell_type": "markdown",
   "metadata": {},
   "source": [
    "# Part 1: Small world networks"
   ]
  },
  {
   "cell_type": "markdown",
   "metadata": {
    "collapsed": true
   },
   "source": [
    "* What's the problem with random networks as a model for real-world networks according to the argument on p. 11-12?\n",
    "\n",
    "The problem is that random networks average degree is close to the degree in most nodes.\n",
    "This is not the case for nodes in reals networks. <br>\n",
    "This is because the degree distribution on real network for nodes does not follow a porsson distribution. \n",
    "\n",
    "For the random network hubs ie nodes with high degree does not accure. But this is observed to be more likely in real networks"
   ]
  },
  {
   "cell_type": "markdown",
   "metadata": {},
   "source": [
    " * List the four regimes that characterize random networks as a function of  ⟨k⟩\n",
    "\n"
   ]
  },
  {
   "cell_type": "code",
   "execution_count": 1,
   "metadata": {
    "collapsed": true
   },
   "outputs": [],
   "source": [
    "# Subcritical regime 0 < k > 1\n",
    "\n",
    "# Critical regime k = 1\n",
    "\n",
    "# Supercritical regime k > 1\n",
    "\n",
    "# Connected regime k > ln(n)"
   ]
  },
  {
   "cell_type": "markdown",
   "metadata": {},
   "source": [
    "* According to the book, why is it a problem for random networks (in terms of being a model for real-world networks) that the degree-dependent clustering  C(k)  decreases as a function of  kk  in real-world networks?"
   ]
  },
  {
   "cell_type": "markdown",
   "metadata": {},
   "source": [
    "For realworld networks it is not likly that every link has the same probability. This can be caused by many variable according to the network being observed.\n",
    "\n",
    "An example would be that there is a higher chance for a person to know someone from their local community then the propability of them knowing an person picked at random in the world."
   ]
  },
  {
   "cell_type": "markdown",
   "metadata": {},
   "source": [
    "### Exercises_: WS edition.\n"
   ]
  },
  {
   "cell_type": "markdown",
   "metadata": {},
   "source": [
    "> * First, let's use `networkx` to play around with WS graphs. Use `nx.watts_strogatz_graph` to generate 3 graphs with 500 nodes each, average degree = 4, and rewiring probablity $p = 0, 0.1, \\textrm{and} 1$. Calculate the average shortest path length $\\langle d \\rangle$ for each one. Describe what happens to the network when $p = 1$."
   ]
  },
  {
   "cell_type": "code",
   "execution_count": 2,
   "metadata": {
    "collapsed": false
   },
   "outputs": [
    {
     "name": "stdout",
     "output_type": "stream",
     "text": [
      "62.875751503\n",
      "7.39841282565\n",
      "4.77022845691\n"
     ]
    }
   ],
   "source": [
    "import numpy as np\n",
    "import random\n",
    "import networkx as nx\n",
    "\n",
    "def average_shortest_path_length_d(graph):\n",
    "    #print(\"Average shortest path length\")\n",
    "    d = nx.average_shortest_path_length(graph)\n",
    "    #print(\"d\", d)\n",
    "    return d\n",
    "\n",
    "n = 500\n",
    "k = 4\n",
    "p_list = [0,0.1,1] \n",
    "\n",
    "for p in p_list:\n",
    "    graph = nx.watts_strogatz_graph(n,k,p)\n",
    "    d = average_shortest_path_length_d(graph)\n",
    "    print(d)\n",
    "# The average shortest path becomes very close to the average degree "
   ]
  },
  {
   "cell_type": "markdown",
   "metadata": {},
   "source": [
    "> * Play around with $p$. What's the value of $p$ for which the average shortest path length gets close to the fully randomized network (i.e. when $p = 1$).\n"
   ]
  },
  {
   "cell_type": "code",
   "execution_count": 106,
   "metadata": {
    "collapsed": false
   },
   "outputs": [
    {
     "name": "stdout",
     "output_type": "stream",
     "text": [
      "1.0\n"
     ]
    }
   ],
   "source": [
    "# Random network with prob 1\n",
    "random_network = nx.gnp_random_graph(n, p=1)\n",
    "random_d = average_shortest_path_length_d(random_network)\n",
    "print(random_d)\n"
   ]
  },
  {
   "cell_type": "code",
   "execution_count": 107,
   "metadata": {
    "collapsed": false,
    "scrolled": true
   },
   "outputs": [
    {
     "name": "stdout",
     "output_type": "stream",
     "text": [
      "('p', 0.0)\n",
      "('p', 0.10000000000000001)\n",
      "('p', 0.20000000000000001)\n",
      "('p', 0.30000000000000004)\n",
      "('p', 0.40000000000000002)\n",
      "('p', 0.5)\n",
      "('p', 0.60000000000000009)\n",
      "('p', 0.70000000000000007)\n",
      "('p', 0.80000000000000004)\n",
      "('p', 0.90000000000000002)\n",
      "8\n"
     ]
    },
    {
     "data": {
      "text/plain": [
       "4.7603687374749502"
      ]
     },
     "execution_count": 107,
     "metadata": {},
     "output_type": "execute_result"
    }
   ],
   "source": [
    "import math\n",
    "import numpy as np\n",
    "\n",
    "\n",
    "def find_nearest(array,value):\n",
    "    idx = (np.abs(array-value)).argmin()\n",
    "    print(idx)\n",
    "    return array[idx]\n",
    "\n",
    "\n",
    "\n",
    "value_list = list()\n",
    "p_value_list = list()\n",
    "for p in np.arange(0, 1, 0.1):\n",
    "    graph = nx.watts_strogatz_graph(n,k,p)\n",
    "\n",
    "    value_list.append( average_shortest_path_length_d(graph))\n",
    "    p_value_list.append(p)\n",
    "    print(\"p\",p)\n",
    "\n",
    "value_array = np.asarray(value_list)\n",
    "find_nearest(value_array,random_d)"
   ]
  },
  {
   "cell_type": "code",
   "execution_count": 4,
   "metadata": {
    "collapsed": false,
    "scrolled": true
   },
   "outputs": [
    {
     "name": "stdout",
     "output_type": "stream",
     "text": [
      "('not connected', 0.0)\n",
      "('not connected', 0.001)\n",
      "('not connected', 0.002)\n",
      "('not connected', 0.0030000000000000001)\n",
      "('not connected', 0.0040000000000000001)\n",
      "('not connected', 0.0050000000000000001)\n",
      "('not connected', 0.0060000000000000001)\n",
      "('not connected', 0.0070000000000000001)\n",
      "('not connected', 0.0080000000000000002)\n",
      "('not connected', 0.0090000000000000011)\n",
      "('not connected', 0.01)\n",
      "('not connected', 0.010999999999999999)\n",
      "3.70722244489 0.012\n",
      "3.47687374749 0.013\n",
      "('not connected', 0.014)\n",
      "('not connected', 0.014999999999999999)\n",
      "3.20165931864 0.016\n",
      "3.14311022044 0.017\n",
      "3.05050901804 0.018\n",
      "2.96707815631 0.019\n",
      "2.92880961924 0.02\n",
      "2.92084168337 0.021\n",
      "2.8509739479 0.022\n",
      "2.79554308617 0.023\n",
      "2.79070140281 0.024\n",
      "2.73041282565 0.025\n",
      "2.70278957916 0.026\n",
      "2.66519438878 0.027\n",
      "2.64058517034 0.028\n",
      "2.61849298597 0.029\n",
      "2.60513827655 0.03\n",
      "2.56986773547 0.031\n",
      "2.54376753507 0.032\n",
      "2.54519438878 0.033\n",
      "2.50921042084 0.034\n",
      "2.4873987976 0.035\n",
      "2.46004809619 0.036\n",
      "2.4463246493 0.037\n",
      "2.43950300601 0.038\n",
      "2.40585170341 0.039\n",
      "2.38928256513 0.04\n",
      "2.36169138277 0.041\n",
      "2.35384368737 0.042\n",
      "2.33978356713 0.043\n",
      "2.31147895792 0.044\n",
      "2.29777154309 0.045\n",
      "2.26891382766 0.046\n",
      "2.26351102204 0.047\n",
      "2.25873346693 0.048\n",
      "2.23047695391 0.049\n",
      "2.22597995992 0.05\n",
      "2.2204488978 0.051\n",
      "2.18930661323 0.052\n",
      "2.15612825651 0.053\n",
      "2.17130260521 0.054\n",
      "2.16178757515 0.055\n",
      "2.14614028056 0.056\n",
      "2.12461723447 0.057\n",
      "2.11299398798 0.058\n",
      "2.09882965932 0.059\n",
      "2.10060921844 0.06\n",
      "2.0928256513 0.061\n",
      "2.0661002004 0.062\n",
      "2.06763126253 0.063\n",
      "2.07575150301 0.064\n",
      "2.05260921844 0.065\n",
      "2.04219639279 0.066\n",
      "2.03376352705 0.067\n",
      "2.02646893788 0.068\n",
      "2.02348697395 0.069\n",
      "2.00363126253 0.07\n",
      "2.00347094188 0.071\n",
      "2.00690180361 0.072\n",
      "1.9936993988 0.073\n",
      "1.97989579158 0.074\n",
      "1.97696993988 0.075\n",
      "1.97933466934 0.076\n",
      "1.96868937876 0.077\n",
      "1.96795991984 0.078\n",
      "1.96153907816 0.079\n",
      "1.94930661323 0.08\n",
      "1.95471743487 0.081\n",
      "1.94483366733 0.082\n",
      "1.94392785571 0.083\n",
      "1.9421002004 0.084\n",
      "1.93692985972 0.085\n",
      "1.93775551102 0.086\n",
      "1.93068537074 0.087\n",
      "1.93263326653 0.088\n",
      "1.92594789579 0.089\n",
      "1.92773547094 0.09\n",
      "1.92562725451 0.091\n",
      "1.92080160321 0.092\n",
      "1.91744288577 0.093\n",
      "1.91583166333 0.094\n",
      "1.91532665331 0.095\n",
      "1.91358717435 0.096\n",
      "1.9080240481 0.097\n",
      "1.91127855711 0.098\n",
      "1.90468937876 0.099\n"
     ]
    }
   ],
   "source": [
    "graph = nx.watts_strogatz_graph(n,k,1)\n",
    "\n",
    "\n",
    "value_list = list()\n",
    "p_value_list = list()\n",
    "for p in np.arange(0, 0.1, 0.001):\n",
    "    try:\n",
    "        random_network = nx.gnp_random_graph(n,p)\n",
    "        d = average_shortest_path_length_d(random_network)\n",
    "        print d , p\n",
    "    except:\n",
    "        print(\"not connected\" , p)\n",
    "# p = 0.012, d= 3.70 closest"
   ]
  },
  {
   "cell_type": "markdown",
   "metadata": {},
   "source": [
    "> * Let's investigate this behavior in detail. Generate 50 networks with $N = 500$, $\\langle k \\rangle = 4$, for each of $p = \\{0, 0.01, 0.03, 0.05, 0.1, 0.2\\}$. Calculate the average of $\\langle d \\rangle$ as well as the standard deviation over the 50 networks, to create a plot that shows how the path length decreases very quickly with only a little fraction of re-wiring. Use the standard deviation to add [errorbars](http://matplotlib.org/1.2.1/examples/pylab_examples/errorbar_demo.html \"Link: http://matplotlib.org/1.2.1/examples/pylab_examples/errorbar_demo.html\") to the plot. My version of the plot is below (since a picture's worth 1000 words).\n",
    "> "
   ]
  },
  {
   "cell_type": "code",
   "execution_count": 130,
   "metadata": {
    "collapsed": false
   },
   "outputs": [],
   "source": [
    "def generate_networks(number_of_times, n, k, p_list):\n",
    "    list_mean = list()\n",
    "    list_std = list()\n",
    "    for p in p_list:\n",
    "        list_average_d = list()\n",
    "        for number in range(number_of_times):     \n",
    "            graph = nx.watts_strogatz_graph(n,k,p)\n",
    "            d = average_shortest_path_length_d(graph)\n",
    "            list_average_d.append(d)\n",
    "            \n",
    "        mean = np.mean(list_average_d)\n",
    "        std = np.std(list_average_d)\n",
    "        list_mean.append(mean)\n",
    "        list_std.append(std)\n",
    "    return list_mean, list_std\n",
    "          \n",
    "    \n",
    "\n",
    "n = 500\n",
    "k = 4\n",
    "p_list = [0,0.01,0.03,0.04,0.1,0.2]\n",
    "\n",
    "list_mean,list_std = generate_networks(50, n, k, p_list)"
   ]
  },
  {
   "cell_type": "code",
   "execution_count": 136,
   "metadata": {
    "collapsed": false
   },
   "outputs": [
    {
     "data": {
      "text/plain": [
       "<Container object of 3 artists>"
      ]
     },
     "execution_count": 136,
     "metadata": {},
     "output_type": "execute_result"
    },
    {
     "data": {
      "image/png": "[encoded data removed]",
      "text/plain": [
       "<matplotlib.figure.Figure at 0x4131b70>"
      ]
     },
     "metadata": {},
     "output_type": "display_data"
    }
   ],
   "source": [
    "import matplotlib.pyplot as plt\n",
    "% matplotlib inline\n",
    "x = np.arange(len(list_mean))\n",
    "plt.errorbar(x, list_mean,  yerr=list_std)\n"
   ]
  },
  {
   "cell_type": "code",
   "execution_count": 19,
   "metadata": {
    "collapsed": false
   },
   "outputs": [
    {
     "data": {
      "image/png": "[encoded data removed]",
      "text/plain": [
       "<matplotlib.figure.Figure at 0x8abeda0>"
      ]
     },
     "metadata": {},
     "output_type": "display_data"
    }
   ],
   "source": [
    "%matplotlib inline\n",
    "from ipywidgets import interact\n",
    "import numpy as np\n",
    "import matplotlib.pyplot as plt\n",
    "@interact\n",
    "def foo(first_term = [-20,20]):\n",
    "    \n",
    "    ## first_term = n - y + 1\n",
    "    x = np.linspace(-10,10,100)\n",
    "    y = x ** first_term\n",
    "\n",
    "    plt.plot(x,y)\n",
    "    plt.ylim([0,10000])\n",
    "    plt.xlim([0,2])\n",
    "    plt.show()"
   ]
  },
  {
   "cell_type": "code",
   "execution_count": 43,
   "metadata": {
    "collapsed": false
   },
   "outputs": [
    {
     "data": {
      "image/png": "[encoded data removed]",
      "text/plain": [
       "<matplotlib.figure.Figure at 0x771d898>"
      ]
     },
     "metadata": {},
     "output_type": "display_data"
    }
   ],
   "source": [
    "import math\n",
    "@interact\n",
    "def ultra_small(n = [2,20]):\n",
    "    \n",
    "    ## first_term = n - y + 1\n",
    "    x = np.linspace(-10,100,100)\n",
    "    y = np.multiply(x, math.log(math.log(n)))  \n",
    "\n",
    "    plt.plot(x,y)\n",
    "    plt.ylim([0,100])\n",
    "    plt.xlim([0,100])\n",
    "    plt.show()\n"
   ]
  },
  {
   "cell_type": "markdown",
   "metadata": {},
   "source": [
    " * What are the three slope dependent regimes of complex networks with power-law degree distributions? Briefly describe each one. (You will have to skim chp 5.7 to answer this one).\n",
    " \n",
    " "
   ]
  },
  {
   "cell_type": "markdown",
   "metadata": {},
   "source": [
    "* Anomalous Regime <br>\n",
    " y < 2, this means the exponent in kmax = kmin N exp( 1/(y-1) ) <br>\n",
    " \n",
    " 1 /( y - 1 ) > 1\n",
    " \n",
    " This means that the number links in the largest hub will increase faster then N. In the case that it is not possible to have multi-links, a large scale free network does not make sense for y < 2\n",
    "\n",
    "\n",
    "* Scale-free Regime\n",
    "\n",
    "The average distance grows slower in proportion to N compared to a random network. In this regime small hubs starts to accure linking together larger number of nodes. Effectivly reducing the average distance between two random nodes. The power law degree distributions is getting a tail where there is a higher probability for high degree k, compared to the random network\n",
    "\n",
    "\n",
    "\n",
    "* Random Network Regime\n",
    "\n",
    "Kmax becomes small for high number of links. because the exponent becomes smaller as y increases above 3.\n",
    "This results in low probability for hubs to accure. \n",
    "\n",
    "The slope is dependent on the degree expontent y. For this regime it is difficult to distinguish it from a random network\n"
   ]
  },
  {
   "cell_type": "markdown",
   "metadata": {},
   "source": [
    "* What are the three regimes we find in non-linear preferential attachement? (chapter 5) Briefly describe each one."
   ]
  },
  {
   "cell_type": "markdown",
   "metadata": {},
   "source": [
    "## We're going to create our own Barabasi-Albert model (a special case) in right in a notebook. Follow the recipe below for success"
   ]
  },
  {
   "cell_type": "markdown",
   "metadata": {},
   "source": [
    "> We're going to create our own Barabasi-Albert model (a special case) in right in a `notebook`. Follow the recipe below for success\n",
    "> \n",
    "> * First create a graph consisting of a single link. (You can call the nodes anything, but I would simply use integers as names).\n",
    "> * Now add another node, connecting one of the existing nodes in proportion to their degree.\n",
    "> * Keep going until you have a 100 node network.\n",
    ">   * _Hint_: The difficult part here is connecting to each node according to their degree. The way I do it is: generate a list of all edges (e.g. pairs of nodes), then flatten it (e.g. remove connection information). That list contains each node in proportion to its connections, thus drawing a random node from that list (e.g. using `random.choice`) corresponds to selecting a node with probability proportional to it's degree.\n",
    "> * Plot the network. \n",
    "\n",
    "> ![Sune's version](https://raw.githubusercontent.com/suneman/socialgraphs2016/master/files/ba.png)\n",
    "> "
   ]
  },
  {
   "cell_type": "code",
   "execution_count": 152,
   "metadata": {
    "collapsed": false
   },
   "outputs": [
    {
     "data": {
      "image/png": "[encoded data removed]",
      "text/plain": [
       "<matplotlib.figure.Figure at 0x7f94668>"
      ]
     },
     "metadata": {},
     "output_type": "display_data"
    }
   ],
   "source": [
    "import networkx as nx\n",
    "import random\n",
    "\n",
    "def draw_from_degree_propability(graph):\n",
    "    edges = np.asarray(graph.edges())\n",
    "    flat_edges = np.ndarray.flatten(edges)\n",
    "    return random.choice(flat_edges)\n",
    "\n",
    "\n",
    "\n",
    "graph = nx.Graph()\n",
    "\n",
    "\n",
    "graph.add_nodes_from([1,2])\n",
    "graph.add_edge(1,2)\n",
    "\n",
    "for node in range(3,101):\n",
    "    existing_node = draw_from_degree_propability(graph)\n",
    "    graph.add_edge(existing_node, node)\n",
    "    \n",
    "\n",
    "nx.draw_spring(graph,node_size = 100)"
   ]
  },
  {
   "cell_type": "markdown",
   "metadata": {},
   "source": [
    "> * Add more nodes until you have a 5000 node network.\n",
    "\n"
   ]
  },
  {
   "cell_type": "code",
   "execution_count": 153,
   "metadata": {
    "collapsed": false
   },
   "outputs": [],
   "source": [
    "while len(graph.nodes()) < 5000:\n",
    "    node = len(graph.nodes()) + 1\n",
    "    existing_node = draw_from_degree_propability(graph)\n",
    "    graph.add_edge(existing_node, node)"
   ]
  },
  {
   "cell_type": "markdown",
   "metadata": {},
   "source": [
    "> * What's the maximum and minimum degree?"
   ]
  },
  {
   "cell_type": "code",
   "execution_count": 175,
   "metadata": {
    "collapsed": false
   },
   "outputs": [
    {
     "name": "stdout",
     "output_type": "stream",
     "text": [
      "(241, 1)\n"
     ]
    }
   ],
   "source": [
    "import operator\n",
    "\n",
    "maximum_degree = max(nx.degree(graph).iteritems(), key=operator.itemgetter(1))[1]\n",
    "minimum_degree = min(nx.degree(graph).iteritems(), key=operator.itemgetter(1))[1]\n",
    "\n",
    "# Max and min\n",
    "print(maximum_degree, minimum_degree)"
   ]
  },
  {
   "cell_type": "markdown",
   "metadata": {},
   "source": [
    "> * Now, bin the degree distribution using `numpy.histogram`.\n",
    "> * Plot the distribution. Plot it with both linear and log-log axes.\n",
    "> "
   ]
  },
  {
   "cell_type": "code",
   "execution_count": 177,
   "metadata": {
    "collapsed": false
   },
   "outputs": [],
   "source": [
    "def create_histogram_from_graph(graph):\n",
    "    \n",
    "    min_value = np.min(nx.degree(graph).values())\n",
    "    max_value = np.max(nx.degree(graph).values())\n",
    "\n",
    "    bin_vector = [i for i in range(min_value,max_value) ]\n",
    "    hist, bin_edges = np.histogram(nx.degree(graph).values(), bins = bin_vector)\n",
    "    \n",
    "    return hist\n",
    "\n",
    "hist = create_histogram_from_graph(graph)\n"
   ]
  },
  {
   "cell_type": "code",
   "execution_count": 179,
   "metadata": {
    "collapsed": false
   },
   "outputs": [
    {
     "data": {
      "text/plain": [
       "[<matplotlib.lines.Line2D at 0x7f94358>]"
      ]
     },
     "execution_count": 179,
     "metadata": {},
     "output_type": "execute_result"
    },
    {
     "data": {
      "image/png": "[encoded data removed]",
      "text/plain": [
       "<matplotlib.figure.Figure at 0x808a4a8>"
      ]
     },
     "metadata": {},
     "output_type": "display_data"
    }
   ],
   "source": [
    "import matplotlib.pyplot as plt\n",
    "% matplotlib inline\n",
    "\n",
    "plt.plot(hist)"
   ]
  },
  {
   "cell_type": "code",
   "execution_count": 202,
   "metadata": {
    "collapsed": false
   },
   "outputs": [
    {
     "data": {
      "text/plain": [
       "[<matplotlib.lines.Line2D at 0xbdb6e10>]"
      ]
     },
     "execution_count": 202,
     "metadata": {},
     "output_type": "execute_result"
    },
    {
     "data": {
      "image/png": "[encoded data removed]",
      "text/plain": [
       "<matplotlib.figure.Figure at 0xb25f5f8>"
      ]
     },
     "metadata": {},
     "output_type": "display_data"
    }
   ],
   "source": [
    "plt.loglog(hist,marker='o',linestyle='none')"
   ]
  },
  {
   "cell_type": "code",
   "execution_count": 203,
   "metadata": {
    "collapsed": false
   },
   "outputs": [
    {
     "data": {
      "text/plain": [
       "[<matplotlib.lines.Line2D at 0xb50e470>]"
      ]
     },
     "execution_count": 203,
     "metadata": {},
     "output_type": "execute_result"
    },
    {
     "data": {
      "image/png": "[encoded data removed]",
      "text/plain": [
       "<matplotlib.figure.Figure at 0x9ad2b00>"
      ]
     },
     "metadata": {},
     "output_type": "display_data"
    }
   ],
   "source": [
    "plt.loglog(hist)"
   ]
  },
  {
   "cell_type": "markdown",
   "metadata": {},
   "source": [
    "> Next step is to explore the [Friendship paradox](https://en.wikipedia.org/wiki/Friendship_paradox). This paradox states that _almost everyone_ have fewer friends than their friends have, on average\\*. This sounds crazy, but is actually an almost trivial consequence of living in a social network with a power-law degree distribution. The explanation is that almost everyone is friends with a hub, that drives up the average degree of the friends. Let's explore that in the 5000 node BA network we've just generated. Do the following:"
   ]
  },
  {
   "cell_type": "markdown",
   "metadata": {},
   "source": [
    "> \n",
    "> * Pick a node $i$ at random (e.g. use `random.choice`). [Find its degree](http://networkx.lanl.gov/reference/generated/networkx.Graph.degree.html).\n",
    "> * Find $i$'s [neighbors](http://networkx.lanl.gov/reference/generated/networkx.Graph.neighbors.html). And calculate their average degree.\n",
    "> * Compare the two numbers to check if it's true that $i$'s friends (on average) have more friends than $i$.\n",
    "> * Do this 1000 times. How many out of those 1000 times is the friendship paradox true?\n",
    "> \n"
   ]
  },
  {
   "cell_type": "code",
   "execution_count": 230,
   "metadata": {
    "collapsed": false
   },
   "outputs": [],
   "source": [
    "def calculate_average_neighbor_degree(graph, neighbor_nodes):\n",
    "    list_neightbor_degrees = list()\n",
    "    for neighbor_node in neighbor_nodes:\n",
    "        degree = graph.degree(neighbor_node)\n",
    "        list_neightbor_degrees.append(degree)\n",
    "\n",
    "    mean = np.mean(list_neightbor_degrees)    \n",
    "    return mean\n",
    "\n",
    "def compare_random_degree_to_neighbor_degree(graph):\n",
    "    random_node = random.choice(graph.nodes())\n",
    "    random_node_degree = graph.degree(random_node)\n",
    "    neighbor_nodes = graph.neighbors(random_node)\n",
    "    average_neighbor_degree = calculate_average_neighbor_degree(graph,neighbor_nodes)\n",
    "    \n",
    "    return random_node_degree < average_neighbor_degree\n",
    "\n",
    "result_list = list()\n",
    "for number in range(1000):\n",
    "    result_list.append(compare_random_degree_to_neighbor_degree(graph))"
   ]
  },
  {
   "cell_type": "code",
   "execution_count": 234,
   "metadata": {
    "collapsed": false
   },
   "outputs": [
    {
     "data": {
      "text/plain": [
       "853"
      ]
     },
     "execution_count": 234,
     "metadata": {},
     "output_type": "execute_result"
    }
   ],
   "source": [
    "times_friendship_paradox_is_true = sum(result_list)\n",
    "times_friendship_paradox_is_true"
   ]
  },
  {
   "cell_type": "markdown",
   "metadata": {},
   "source": [
    "> Finally, we'll build a network of same size and degree, using the growth mechanism without the preferential attachment. \n",
    "> \n",
    "> * Compare to the ER network of same size and same _p_. What are the differences? Explain in your own words. _Hint_: To get started, take a look at the degree distribution, and study the number of connected components.\n",
    ">"
   ]
  },
  {
   "cell_type": "code",
   "execution_count": null,
   "metadata": {
    "collapsed": true
   },
   "outputs": [],
   "source": []
  }
 ],
 "metadata": {
  "anaconda-cloud": {},
  "kernelspec": {
   "display_name": "Python [Root]",
   "language": "python",
   "name": "Python [Root]"
  },
  "language_info": {
   "codemirror_mode": {
    "name": "ipython",
    "version": 2
   },
   "file_extension": ".py",
   "mimetype": "text/x-python",
   "name": "python",
   "nbconvert_exporter": "python",
   "pygments_lexer": "ipython2",
   "version": "2.7.12"
  }
 },
 "nbformat": 4,
 "nbformat_minor": 0
}
