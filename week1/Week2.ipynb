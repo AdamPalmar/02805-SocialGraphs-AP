{
 "cells": [
  {
   "cell_type": "markdown",
   "metadata": {},
   "source": [
    "\n",
    "\n",
    "    Exercises\n",
    "    Chapter 1 (Don't forget that you should be answering these in an IPython notebook.)\n",
    "\n",
    "        List three different real networks and state the nodes and links for each of them.\n",
    "        Tell us of the network you are personally most interested in. Address the following questions:\n",
    "            What are its nodes and links?\n",
    "            How large is it?\n",
    "            Can be mapped out?\n",
    "            Why do you care about it?\n",
    "        In your view what would be the area where network science could have the biggest impact in the next decade? Explain your answer - and base it on the text in the book.\n",
    "        \n",
    "\n",
    "       \n",
    "\n",
    "    Chapter 2\n",
    "\n",
    "        Section 2.5 states that real networks are sparse. Can you think of a real network where each node has many connections? Is that network still sparse? If yes, can you explain why?\n",
    "\n",
    "    There are more questions on Chapter 2 below.\n",
    "\n"
   ]
  },
  {
   "cell_type": "markdown",
   "metadata": {},
   "source": [
    "#  (Answers real networks)\n",
    " 1.\n",
    " Managemet communication networks.\n",
    " \n",
    " Modelling communication flow between departments and individuals i companies. \n",
    " This is not a physical network, but it can be used to model flow of infomation and how buisness decitions are made.\n",
    " \n",
    " Nodes would in this case be people, or departments and the communication between people would represent links.7\n",
    " In terms of the size of the network it depends on the size of the company.\n",
    " \n",
    " Its important because with increasing size in amount of people involved in collaborating. Having effectiv communication\n",
    " about direction is increasingly difficult. This is because of the natural amount of people that we can communicate with on a daily basis limited.\n",
    " \n",
    " \n",
    " 2.\n",
    " \n",
    " Transportation network/ road inferstructure can be model as a real networks.\n",
    " The nodes can be represented as the crossings where the roads connect. \n",
    " The links would be the roads connecting the traffic lights. \n",
    " \n",
    "\n",
    " The graph could be scaled to the size of every connected road system on earth.\n",
    " It can be mapped out most effectly might be pictures taken from satellites in space.\n",
    " \n",
    " This kind of network is important if you want to move from A to B effectivly.\n",
    "  Representation of this network is used in GPS sytems for navigation.\n",
    "  \n",
    " 3.\n",
    "From neuroscience we know that the brain is also a network consisting of interconnected neurons. In this case neurons would be notes and the connection between them links.\n",
    "\n",
    "There is still uncertainty around how large they are. But the amount of neurons are in the billions. \n",
    "Some research sugest that there are on average 86 billion neurons.\n",
    "\n",
    "It is unknown what would come from unlocking how the brain works. Next step in humanity maybe or AI apocalypse.\n",
    "\n",
    "\n",
    "\n",
    "\n",
    "    Impact on the next decade\n",
    "    \n",
    "I think network science could have a big impact in the world of personlized education making personalized curriculum that can adapt to the interest and learning rate of he individual person. \n",
    "\n",
    "In pace with the decentralization of high quality education avaliable online. It might become increasingly difficult to make onesize fits all educations and in order to keep up with the accumulation of information. Knowing what is relevant to the individual is important because time is a limited resource. \n",
    "\n",
    "    \n",
    "            "
   ]
  },
  {
   "cell_type": "code",
   "execution_count": null,
   "metadata": {
    "collapsed": true
   },
   "outputs": [],
   "source": []
  }
 ],
 "metadata": {
  "kernelspec": {
   "display_name": "Python 2",
   "language": "python",
   "name": "python2"
  },
  "language_info": {
   "codemirror_mode": {
    "name": "ipython",
    "version": 2
   },
   "file_extension": ".py",
   "mimetype": "text/x-python",
   "name": "python",
   "nbconvert_exporter": "python",
   "pygments_lexer": "ipython2",
   "version": "2.7.11"
  }
 },
 "nbformat": 4,
 "nbformat_minor": 0
}
