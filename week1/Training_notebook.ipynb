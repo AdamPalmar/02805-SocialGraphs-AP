{
 "cells": [
  {
   "cell_type": "markdown",
   "metadata": {},
   "source": [
    "# The python exercises\n",
    "\n",
    "**Ex 0**: The Jupyter Notebooks are organized as a list of cells. There are two central kinds of cells, they are called **Code** and **Markdown**. The cell type can be set [using a keyboard shortcut](https://www.dataquest.io/blog/jupyter-notebook-tips-tricks-shortcuts/), or using the menus above.\n",
    "\n",
    "The **Code** cells simply contain the Python code, no big deal.\n",
    "\n",
    "The **Markdown** cells contain text (explanations, sections, etc). The text is written in Markdown. Markdown allows you to write using an easy-to-read, easy-to-write plain text format, then convert it to structurally valid XHTML (or HTML). You can read about it here:\n",
    "\n",
    "http://daringfireball.net/projects/markdown/\n",
    "\n",
    "In the cell below, write a short text that demonstrates that you can\n",
    "* Create a section\n",
    "* Write words in bold and italics\n",
    "* Create lists\n",
    "* Establish a [hyperlink](https://en.wikipedia.org/wiki/Hyperlink)"
   ]
  },
  {
   "cell_type": "markdown",
   "metadata": {},
   "source": [
    "*[Write the answer to **Ex 0** here]*"
   ]
  },
  {
   "cell_type": "markdown",
   "metadata": {},
   "source": [
    "**Ex 1**: Create a list `a` that contains the numbers from $1$ to $1110$, incremented by one, using the `range` function."
   ]
  },
  {
   "cell_type": "code",
   "execution_count": 7,
   "metadata": {
    "collapsed": true
   },
   "outputs": [],
   "source": [
    "a = list(range(1,1110))"
   ]
  },
  {
   "cell_type": "markdown",
   "metadata": {},
   "source": [
    "**Ex 2**: Show that you understand [slicing](http://stackoverflow.com/questions/509211/explain-pythons-slice-notation) in Python by extracting a list `b` with the numbers from $543$ to $779$ from the list created above."
   ]
  },
  {
   "cell_type": "code",
   "execution_count": 20,
   "metadata": {
    "collapsed": true
   },
   "outputs": [],
   "source": [
    "b = a[543:779]"
   ]
  },
  {
   "cell_type": "markdown",
   "metadata": {},
   "source": [
    "**Ex 3**: Using `def`, define a function that takes as input a number $x$ and outputs the number multiplied by itself plus three $f(x) = x(x+3)$. "
   ]
  },
  {
   "cell_type": "code",
   "execution_count": 9,
   "metadata": {
    "collapsed": true
   },
   "outputs": [],
   "source": [
    "def multiply_plus_three(x):\n",
    "    return x * (x + 3)"
   ]
  },
  {
   "cell_type": "markdown",
   "metadata": {},
   "source": [
    "**Ex 4**: Apply this function to every element of the list `b` using a `for` loop. "
   ]
  },
  {
   "cell_type": "code",
   "execution_count": 18,
   "metadata": {
    "collapsed": false
   },
   "outputs": [
    {
     "name": "stdout",
     "output_type": "stream",
     "text": [
      "(0, 544, 297568)\n",
      "(1, 545, 298660)\n",
      "(2, 546, 299754)\n",
      "(3, 547, 300850)\n",
      "(4, 548, 301948)\n",
      "(5, 549, 303048)\n",
      "(6, 550, 304150)\n",
      "(7, 551, 305254)\n",
      "(8, 552, 306360)\n",
      "(9, 553, 307468)\n",
      "(10, 554, 308578)\n",
      "(11, 555, 309690)\n",
      "(12, 556, 310804)\n",
      "(13, 557, 311920)\n",
      "(14, 558, 313038)\n",
      "(15, 559, 314158)\n",
      "(16, 560, 315280)\n",
      "(17, 561, 316404)\n",
      "(18, 562, 317530)\n",
      "(19, 563, 318658)\n",
      "(20, 564, 319788)\n",
      "(21, 565, 320920)\n",
      "(22, 566, 322054)\n",
      "(23, 567, 323190)\n",
      "(24, 568, 324328)\n",
      "(25, 569, 325468)\n",
      "(26, 570, 326610)\n",
      "(27, 571, 327754)\n",
      "(28, 572, 328900)\n",
      "(29, 573, 330048)\n",
      "(30, 574, 331198)\n",
      "(31, 575, 332350)\n",
      "(32, 576, 333504)\n",
      "(33, 577, 334660)\n",
      "(34, 578, 335818)\n",
      "(35, 579, 336978)\n",
      "(36, 580, 338140)\n",
      "(37, 581, 339304)\n",
      "(38, 582, 340470)\n",
      "(39, 583, 341638)\n",
      "(40, 584, 342808)\n",
      "(41, 585, 343980)\n",
      "(42, 586, 345154)\n",
      "(43, 587, 346330)\n",
      "(44, 588, 347508)\n",
      "(45, 589, 348688)\n",
      "(46, 590, 349870)\n",
      "(47, 591, 351054)\n",
      "(48, 592, 352240)\n",
      "(49, 593, 353428)\n",
      "(50, 594, 354618)\n",
      "(51, 595, 355810)\n",
      "(52, 596, 357004)\n",
      "(53, 597, 358200)\n",
      "(54, 598, 359398)\n",
      "(55, 599, 360598)\n",
      "(56, 600, 361800)\n",
      "(57, 601, 363004)\n",
      "(58, 602, 364210)\n",
      "(59, 603, 365418)\n",
      "(60, 604, 366628)\n",
      "(61, 605, 367840)\n",
      "(62, 606, 369054)\n",
      "(63, 607, 370270)\n",
      "(64, 608, 371488)\n",
      "(65, 609, 372708)\n",
      "(66, 610, 373930)\n",
      "(67, 611, 375154)\n",
      "(68, 612, 376380)\n",
      "(69, 613, 377608)\n",
      "(70, 614, 378838)\n",
      "(71, 615, 380070)\n",
      "(72, 616, 381304)\n",
      "(73, 617, 382540)\n",
      "(74, 618, 383778)\n",
      "(75, 619, 385018)\n",
      "(76, 620, 386260)\n",
      "(77, 621, 387504)\n",
      "(78, 622, 388750)\n",
      "(79, 623, 389998)\n",
      "(80, 624, 391248)\n",
      "(81, 625, 392500)\n",
      "(82, 626, 393754)\n",
      "(83, 627, 395010)\n",
      "(84, 628, 396268)\n",
      "(85, 629, 397528)\n",
      "(86, 630, 398790)\n",
      "(87, 631, 400054)\n",
      "(88, 632, 401320)\n",
      "(89, 633, 402588)\n",
      "(90, 634, 403858)\n",
      "(91, 635, 405130)\n",
      "(92, 636, 406404)\n",
      "(93, 637, 407680)\n",
      "(94, 638, 408958)\n",
      "(95, 639, 410238)\n",
      "(96, 640, 411520)\n",
      "(97, 641, 412804)\n",
      "(98, 642, 414090)\n",
      "(99, 643, 415378)\n",
      "(100, 644, 416668)\n",
      "(101, 645, 417960)\n",
      "(102, 646, 419254)\n",
      "(103, 647, 420550)\n",
      "(104, 648, 421848)\n",
      "(105, 649, 423148)\n",
      "(106, 650, 424450)\n",
      "(107, 651, 425754)\n",
      "(108, 652, 427060)\n",
      "(109, 653, 428368)\n",
      "(110, 654, 429678)\n",
      "(111, 655, 430990)\n",
      "(112, 656, 432304)\n",
      "(113, 657, 433620)\n",
      "(114, 658, 434938)\n",
      "(115, 659, 436258)\n",
      "(116, 660, 437580)\n",
      "(117, 661, 438904)\n",
      "(118, 662, 440230)\n",
      "(119, 663, 441558)\n",
      "(120, 664, 442888)\n",
      "(121, 665, 444220)\n",
      "(122, 666, 445554)\n",
      "(123, 667, 446890)\n",
      "(124, 668, 448228)\n",
      "(125, 669, 449568)\n",
      "(126, 670, 450910)\n",
      "(127, 671, 452254)\n",
      "(128, 672, 453600)\n",
      "(129, 673, 454948)\n",
      "(130, 674, 456298)\n",
      "(131, 675, 457650)\n",
      "(132, 676, 459004)\n",
      "(133, 677, 460360)\n",
      "(134, 678, 461718)\n",
      "(135, 679, 463078)\n",
      "(136, 680, 464440)\n",
      "(137, 681, 465804)\n",
      "(138, 682, 467170)\n",
      "(139, 683, 468538)\n",
      "(140, 684, 469908)\n",
      "(141, 685, 471280)\n",
      "(142, 686, 472654)\n",
      "(143, 687, 474030)\n",
      "(144, 688, 475408)\n",
      "(145, 689, 476788)\n",
      "(146, 690, 478170)\n",
      "(147, 691, 479554)\n",
      "(148, 692, 480940)\n",
      "(149, 693, 482328)\n",
      "(150, 694, 483718)\n",
      "(151, 695, 485110)\n",
      "(152, 696, 486504)\n",
      "(153, 697, 487900)\n",
      "(154, 698, 489298)\n",
      "(155, 699, 490698)\n",
      "(156, 700, 492100)\n",
      "(157, 701, 493504)\n",
      "(158, 702, 494910)\n",
      "(159, 703, 496318)\n",
      "(160, 704, 497728)\n",
      "(161, 705, 499140)\n",
      "(162, 706, 500554)\n",
      "(163, 707, 501970)\n",
      "(164, 708, 503388)\n",
      "(165, 709, 504808)\n",
      "(166, 710, 506230)\n",
      "(167, 711, 507654)\n",
      "(168, 712, 509080)\n",
      "(169, 713, 510508)\n",
      "(170, 714, 511938)\n",
      "(171, 715, 513370)\n",
      "(172, 716, 514804)\n",
      "(173, 717, 516240)\n",
      "(174, 718, 517678)\n",
      "(175, 719, 519118)\n",
      "(176, 720, 520560)\n",
      "(177, 721, 522004)\n",
      "(178, 722, 523450)\n",
      "(179, 723, 524898)\n",
      "(180, 724, 526348)\n",
      "(181, 725, 527800)\n",
      "(182, 726, 529254)\n",
      "(183, 727, 530710)\n",
      "(184, 728, 532168)\n",
      "(185, 729, 533628)\n",
      "(186, 730, 535090)\n",
      "(187, 731, 536554)\n",
      "(188, 732, 538020)\n",
      "(189, 733, 539488)\n",
      "(190, 734, 540958)\n",
      "(191, 735, 542430)\n",
      "(192, 736, 543904)\n",
      "(193, 737, 545380)\n",
      "(194, 738, 546858)\n",
      "(195, 739, 548338)\n",
      "(196, 740, 549820)\n",
      "(197, 741, 551304)\n",
      "(198, 742, 552790)\n",
      "(199, 743, 554278)\n",
      "(200, 744, 555768)\n",
      "(201, 745, 557260)\n",
      "(202, 746, 558754)\n",
      "(203, 747, 560250)\n",
      "(204, 748, 561748)\n",
      "(205, 749, 563248)\n",
      "(206, 750, 564750)\n",
      "(207, 751, 566254)\n",
      "(208, 752, 567760)\n",
      "(209, 753, 569268)\n",
      "(210, 754, 570778)\n",
      "(211, 755, 572290)\n",
      "(212, 756, 573804)\n",
      "(213, 757, 575320)\n",
      "(214, 758, 576838)\n",
      "(215, 759, 578358)\n",
      "(216, 760, 579880)\n",
      "(217, 761, 581404)\n",
      "(218, 762, 582930)\n",
      "(219, 763, 584458)\n",
      "(220, 764, 585988)\n",
      "(221, 765, 587520)\n",
      "(222, 766, 589054)\n",
      "(223, 767, 590590)\n",
      "(224, 768, 592128)\n",
      "(225, 769, 593668)\n",
      "(226, 770, 595210)\n",
      "(227, 771, 596754)\n",
      "(228, 772, 598300)\n",
      "(229, 773, 599848)\n",
      "(230, 774, 601398)\n",
      "(231, 775, 602950)\n",
      "(232, 776, 604504)\n",
      "(233, 777, 606060)\n",
      "(234, 778, 607618)\n",
      "(235, 779, 609178)\n"
     ]
    }
   ],
   "source": [
    "for index,value in enumerate(b):\n",
    "    b[index] = multiply_plus_three(value)\n",
    "    print(index,value , b[index])\n",
    "    "
   ]
  },
  {
   "cell_type": "markdown",
   "metadata": {},
   "source": [
    "**Ex 5**: Do the same thing using a list comprehension."
   ]
  },
  {
   "cell_type": "code",
   "execution_count": 21,
   "metadata": {
    "collapsed": true
   },
   "outputs": [],
   "source": [
    "B = [multiply_plus_three(x) for x in b]"
   ]
  },
  {
   "cell_type": "markdown",
   "metadata": {},
   "source": [
    "**Ex 6**: Write the output of your function to a text file with one number per line."
   ]
  },
  {
   "cell_type": "code",
   "execution_count": 30,
   "metadata": {
    "collapsed": false
   },
   "outputs": [],
   "source": [
    "text_file = open(\"text_file.txt\",\"w\")\n",
    "for number in B:\n",
    "    text_file.write(str(number) + \"\\n\")"
   ]
  },
  {
   "cell_type": "markdown",
   "metadata": {},
   "source": [
    "**Ex 7**: Show that you know about strings using this example from http://learnpythonthehardway.org/book/ex6.html (code reproduced below).\n",
    "\n",
    "1. Go through the code below and write a code comment above each line explaining it.\n",
    "1. Find all the places where a string is put inside a string. There are four places.\n",
    "1. Are you sure there are only four places? How do you know? Maybe I like lying.\n",
    "1. Explain why adding the two strings w and e with + makes a longer string.\n",
    "\n",
    "\n",
    "[**Hint**: If you feel this is too complex, try completing the prior learningthehardway exercises first. Start [here](http://learnpythonthehardway.org/book/ex1.html). "
   ]
  },
  {
   "cell_type": "code",
   "execution_count": 31,
   "metadata": {
    "collapsed": false
   },
   "outputs": [
    {
     "name": "stdout",
     "output_type": "stream",
     "text": [
      "There are 10 types of people.\n",
      "Those who know binary and those who don't.\n",
      "I said: 'There are 10 types of people.'.\n",
      "I also said: 'Those who know binary and those who don't.'.\n",
      "Isn't that joke so funny?! False\n",
      "This is the left side of...a string with a right side.\n"
     ]
    }
   ],
   "source": [
    "# Note from Sune: In Python, code comments follow the \"#\" character\n",
    "\n",
    "# The variable x is assigned a string %d is a placeholder for the number/numeric value 10 being inserted into the string\n",
    "x = \"There are %d types of people.\" % 10\n",
    "\n",
    "# The variable binary is assigned the value \"binary\" \n",
    "binary = \"binary\"\n",
    "\n",
    "# The variable do_not is assigned the value \"don't\" \n",
    "do_not = \"don't\"\n",
    "\n",
    "# The variable y is assinged a string using %s which is to string placeholders\n",
    "y = \"Those who know %s and those who %s.\" % (binary, do_not) # ------ 2 binary and do_not are variables --------\n",
    "\n",
    "print x\n",
    "print y\n",
    "\n",
    "# A string is printed and the value x is injected into the string as a printable representation of the string\n",
    "print \"I said: %r.\" % x # ------ 1 x is a string ------\n",
    "\n",
    "# A string is printed and the value y is injected as a string into a string\n",
    "print \"I also said: '%s'.\" % y # ------ 1 y is a string --------\n",
    "\n",
    "# Boolean assingment\n",
    "hilarious = False\n",
    "\n",
    "# String assignment with __repr__ placeholder\n",
    "joke_evaluation = \"Isn't that joke so funny?! %r\"\n",
    "\n",
    "# Printing string with printable representation of the boolean value injected into the string. \n",
    "print joke_evaluation % hilarious\n",
    "\n",
    "# String assingment\n",
    "w = \"This is the left side of...\"\n",
    "e = \"a string with a right side.\"\n",
    "\n",
    "print w + e"
   ]
  },
  {
   "cell_type": "markdown",
   "metadata": {},
   "source": [
    "*[Write the answer to **Ex 7**, 2-4 here]*\n"
   ]
  },
  {
   "cell_type": "markdown",
   "metadata": {},
   "source": [
    "2\n",
    "\n",
    "y = \"Those who know %s and those who %s.\" % (binary, do_not) # ------ 2 binary and do_not are string variables --------\n",
    "\n",
    "print \"I said: %r.\" % x # ------ 1 x is a string ------\n",
    "\n",
    "print \"I also said: '%s'.\" % y # ------ 1 y is a string --------\n",
    "\n",
    "3\n",
    "In this case the value 10 is not a string but a integer object\n",
    "x = \"There are %d types of people.\" % 10\n",
    "\n",
    "In this case the value being put into the string joke_evaluation is a boolean object\n",
    "print joke_evaluation % hilarious\n",
    "\n",
    "\n",
    "4\n",
    "The two strings are merged into a single object using the + operator with concatenates the strings\n"
   ]
  },
  {
   "cell_type": "markdown",
   "metadata": {},
   "source": [
    "**Ex 8**: First, learn about JSON by reading the **[wikipedia page](https://en.wikipedia.org/wiki/JSON)**. Then answer the following two questions in the cell below. \n",
    "\n",
    "* What is `json`? What do the letters stand for?\n",
    "* Why is `json` superior to `xml`? (... or why not?)"
   ]
  },
  {
   "cell_type": "markdown",
   "metadata": {},
   "source": [
    "*[Write your answer to **Ex 8** here]*\n",
    "\n",
    "1. Json stands for JavaScript Object Notation\n",
    "\n",
    "2. \n",
    "One could argue json is superior because the way json is parsed.\n",
    "XML needs a XML parser where as json can be parsed by a JavaScript function.\n",
    "In many respects they are similar in their hierarchical representation of values and them both being human readable.\n",
    "Json is also abit more compact in it's notation. This means less overhead.\n"
   ]
  },
  {
   "cell_type": "markdown",
   "metadata": {},
   "source": [
    "**Ex 9a**: Use the `json` module (instructions on usage here: https://docs.python.org/2.7/library/json.html). \n",
    "\n",
    "First use `urllib2` (https://docs.python.org/2.7/howto/urllib2.html), or another Python library, to download **[this file](https://raw.githubusercontent.com/suneman/socialgraphs2016/master/files/test.json)**. \n",
    "\n",
    "The downloaded file is a string when you first download it, but you can use the `json` library to \"load\" the string and decode it to a Python object, using `json.loads()`. (The decoded string is a python object, a list with a single element, a dictionary (with nested dictionaries inside it))."
   ]
  },
  {
   "cell_type": "code",
   "execution_count": 36,
   "metadata": {
    "collapsed": false
   },
   "outputs": [],
   "source": [
    "import urllib2\n",
    "import json\n",
    "\n",
    "response = urllib2.urlopen(\"https://raw.githubusercontent.com/suneman/socialgraphs2016/master/files/test.json\")\n",
    "\n",
    "json_data = json.loads(response.read())"
   ]
  },
  {
   "cell_type": "markdown",
   "metadata": {},
   "source": [
    "**Ex 9b**: Now, let's take a look at the file you downloaded. First, just write the name of the variable that contains the decoded file content and hit enter to take a look at it. It's  the list of Twitter Trending topics, a few days ago."
   ]
  },
  {
   "cell_type": "code",
   "execution_count": 41,
   "metadata": {
    "collapsed": false
   },
   "outputs": [
    {
     "name": "stdout",
     "output_type": "stream",
     "text": [
      "{u'url': u'http://twitter.com/search?q=%23rfcvff', u'query': u'%23rfcvff', u'name': u'#rfcvff', u'promoted_content': None}\n",
      "{u'url': u'http://twitter.com/search?q=%23EFBFCM', u'query': u'%23EFBFCM', u'name': u'#EFBFCM', u'promoted_content': None}\n",
      "{u'url': u'http://twitter.com/search?q=%23bifsje', u'query': u'%23bifsje', u'name': u'#bifsje', u'promoted_content': None}\n",
      "{u'url': u'http://twitter.com/search?q=nordstrand', u'query': u'nordstrand', u'name': u'nordstrand', u'promoted_content': None}\n",
      "{u'url': u'http://twitter.com/search?q=%23WhyILoveLiam', u'query': u'%23WhyILoveLiam', u'name': u'#WhyILoveLiam', u'promoted_content': None}\n",
      "{u'url': u'http://twitter.com/search?q=%23lv2015', u'query': u'%23lv2015', u'name': u'#lv2015', u'promoted_content': None}\n",
      "{u'url': u'http://twitter.com/search?q=%22Harald+Nielsen%22', u'query': u'%22Harald+Nielsen%22', u'name': u'Harald Nielsen', u'promoted_content': None}\n",
      "{u'url': u'http://twitter.com/search?q=Fnatic', u'query': u'Fnatic', u'name': u'Fnatic', u'promoted_content': None}\n",
      "{u'url': u'http://twitter.com/search?q=Nash', u'query': u'Nash', u'name': u'Nash', u'promoted_content': None}\n",
      "{u'url': u'http://twitter.com/search?q=kjeldsen', u'query': u'kjeldsen', u'name': u'kjeldsen', u'promoted_content': None}\n"
     ]
    }
   ],
   "source": [
    "for trend in json_data[0][\"trends\"]:\n",
    "    print(trend)"
   ]
  },
  {
   "cell_type": "markdown",
   "metadata": {},
   "source": [
    "**Ex 9c**: The thing you've just decoded is now a list of length 1. What are the names of the keys organizing the dictionary at position 0 in the list? (Just write the code to produce the answer.) \n",
    "\n",
    "**Hint** use the `.keys()` method to easily get the keys of any dictionary."
   ]
  },
  {
   "cell_type": "code",
   "execution_count": 43,
   "metadata": {
    "collapsed": false
   },
   "outputs": [
    {
     "data": {
      "text/plain": [
       "[u'locations', u'created_at', u'trends', u'as_of']"
      ]
     },
     "execution_count": 43,
     "metadata": {},
     "output_type": "execute_result"
    }
   ],
   "source": [
    "json_data[0].keys()"
   ]
  },
  {
   "cell_type": "markdown",
   "metadata": {},
   "source": [
    "**Ex 9d**: Two small questions \n",
    "* What time did I create the list of Trending Topics?\n",
    "* Print the names of the trending topics (bonus for using a list comprehension)\n",
    "\n",
    "(Just write the code to produce the answer.)"
   ]
  },
  {
   "cell_type": "code",
   "execution_count": 58,
   "metadata": {
    "collapsed": false
   },
   "outputs": [
    {
     "data": {
      "text/plain": [
       "[{u'as_of': u'2015-08-24T08:36:54Z',\n",
       "  u'created_at': u'2015-08-24T08:32:44Z',\n",
       "  u'locations': [{u'name': u'Denmark', u'woeid': 23424796}],\n",
       "  u'trends': [{u'name': u'#rfcvff',\n",
       "    u'promoted_content': None,\n",
       "    u'query': u'%23rfcvff',\n",
       "    u'url': u'http://twitter.com/search?q=%23rfcvff'},\n",
       "   {u'name': u'#EFBFCM',\n",
       "    u'promoted_content': None,\n",
       "    u'query': u'%23EFBFCM',\n",
       "    u'url': u'http://twitter.com/search?q=%23EFBFCM'},\n",
       "   {u'name': u'#bifsje',\n",
       "    u'promoted_content': None,\n",
       "    u'query': u'%23bifsje',\n",
       "    u'url': u'http://twitter.com/search?q=%23bifsje'},\n",
       "   {u'name': u'nordstrand',\n",
       "    u'promoted_content': None,\n",
       "    u'query': u'nordstrand',\n",
       "    u'url': u'http://twitter.com/search?q=nordstrand'},\n",
       "   {u'name': u'#WhyILoveLiam',\n",
       "    u'promoted_content': None,\n",
       "    u'query': u'%23WhyILoveLiam',\n",
       "    u'url': u'http://twitter.com/search?q=%23WhyILoveLiam'},\n",
       "   {u'name': u'#lv2015',\n",
       "    u'promoted_content': None,\n",
       "    u'query': u'%23lv2015',\n",
       "    u'url': u'http://twitter.com/search?q=%23lv2015'},\n",
       "   {u'name': u'Harald Nielsen',\n",
       "    u'promoted_content': None,\n",
       "    u'query': u'%22Harald+Nielsen%22',\n",
       "    u'url': u'http://twitter.com/search?q=%22Harald+Nielsen%22'},\n",
       "   {u'name': u'Fnatic',\n",
       "    u'promoted_content': None,\n",
       "    u'query': u'Fnatic',\n",
       "    u'url': u'http://twitter.com/search?q=Fnatic'},\n",
       "   {u'name': u'Nash',\n",
       "    u'promoted_content': None,\n",
       "    u'query': u'Nash',\n",
       "    u'url': u'http://twitter.com/search?q=Nash'},\n",
       "   {u'name': u'kjeldsen',\n",
       "    u'promoted_content': None,\n",
       "    u'query': u'kjeldsen',\n",
       "    u'url': u'http://twitter.com/search?q=kjeldsen'}]}]"
      ]
     },
     "execution_count": 58,
     "metadata": {},
     "output_type": "execute_result"
    }
   ],
   "source": [
    "json_data"
   ]
  },
  {
   "cell_type": "code",
   "execution_count": 57,
   "metadata": {
    "collapsed": false
   },
   "outputs": [
    {
     "name": "stdout",
     "output_type": "stream",
     "text": [
      "2015-08-24T08:32:44Z\n",
      "[u'#rfcvff', u'#EFBFCM', u'#bifsje', u'nordstrand', u'#WhyILoveLiam', u'#lv2015', u'Harald Nielsen', u'Fnatic', u'Nash', u'kjeldsen']\n"
     ]
    }
   ],
   "source": [
    "print json_data[0][\"created_at\"]\n",
    "print [ trend[\"name\"] for trend in json_data[0][\"trends\"]]"
   ]
  },
  {
   "cell_type": "markdown",
   "metadata": {},
   "source": [
    "**Ex 9e**: Two more small questions\n",
    "* Go on-line and figure out why there's a `u` in front of every string. Write the answer in your own words. (Hint it has to do with strings in Python).\n",
    "* What's going on with all of the `%22` and `%23`? Go on-line and figure it out. Write the answer in your own words. (Hint: It has to do with HTML URL encoding)"
   ]
  },
  {
   "cell_type": "markdown",
   "metadata": {},
   "source": [
    "*[Write your answer to **Ex 9e** here]*"
   ]
  },
  {
   "cell_type": "markdown",
   "metadata": {
    "collapsed": true
   },
   "source": [
    "u means that the value is unicode string object.\n",
    "Its usefull to know when adding special characters using the unicode-escape encoding\n",
    "\n",
    "% is used for URL encoding of ASCII characters\n",
    "\n",
    "%22 is a ASCII encoding reference to the character \"\n",
    "\n",
    "%23 is a ASCII encoding reference to the character #\n"
   ]
  },
  {
   "cell_type": "code",
   "execution_count": null,
   "metadata": {
    "collapsed": true
   },
   "outputs": [],
   "source": []
  }
 ],
 "metadata": {
  "anaconda-cloud": {},
  "kernelspec": {
   "display_name": "Python [Root]",
   "language": "python",
   "name": "Python [Root]"
  },
  "language_info": {
   "codemirror_mode": {
    "name": "ipython",
    "version": 2
   },
   "file_extension": ".py",
   "mimetype": "text/x-python",
   "name": "python",
   "nbconvert_exporter": "python",
   "pygments_lexer": "ipython2",
   "version": "2.7.12"
  }
 },
 "nbformat": 4,
 "nbformat_minor": 1
}
