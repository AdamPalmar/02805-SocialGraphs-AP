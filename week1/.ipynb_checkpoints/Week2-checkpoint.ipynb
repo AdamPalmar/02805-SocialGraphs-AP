{
 "cells": [
  {
   "cell_type": "markdown",
   "metadata": {},
   "source": [
    "\n",
    "\n",
    "    Exercises\n",
    "    Chapter 1 (Don't forget that you should be answering these in an IPython notebook.)\n",
    "\n",
    "        List three different real networks and state the nodes and links for each of them.\n",
    "        Tell us of the network you are personally most interested in. Address the following questions:\n",
    "            What are its nodes and links?\n",
    "            How large is it?\n",
    "            Can be mapped out?\n",
    "            Why do you care about it?\n",
    "        In your view what would be the area where network science could have the biggest impact in the next decade? Explain your answer - and base it on the text in the book.\n",
    "        \n",
    "            (Answers real networks)\n",
    "            1.\n",
    "            Managemet communication networks. Modelling communication flow between departments.\n",
    "            2.\n",
    "            3.\n",
    "            \n",
    "            Impact of network science\n",
    "            \n",
    "       \n",
    "\n",
    "    Chapter 2\n",
    "\n",
    "        Section 2.5 states that real networks are sparse. Can you think of a real network where each node has many connections? Is that network still sparse? If yes, can you explain why?\n",
    "\n",
    "    There are more questions on Chapter 2 below.\n",
    "\n"
   ]
  },
  {
   "cell_type": "code",
   "execution_count": null,
   "metadata": {
    "collapsed": true
   },
   "outputs": [],
   "source": []
  }
 ],
 "metadata": {
  "kernelspec": {
   "display_name": "Python 2",
   "language": "python",
   "name": "python2"
  },
  "language_info": {
   "codemirror_mode": {
    "name": "ipython",
    "version": 2
   },
   "file_extension": ".py",
   "mimetype": "text/x-python",
   "name": "python",
   "nbconvert_exporter": "python",
   "pygments_lexer": "ipython2",
   "version": "2.7.11"
  }
 },
 "nbformat": 4,
 "nbformat_minor": 0
}
